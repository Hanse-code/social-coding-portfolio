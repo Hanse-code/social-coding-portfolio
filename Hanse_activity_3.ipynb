{
  "cells": [
    {
      "cell_type": "markdown",
      "metadata": {
        "id": "view-in-github",
        "colab_type": "text"
      },
      "source": [
        "<a href=\"https://colab.research.google.com/github/Hanse-code/social-coding-portfolio/blob/main/Hanse_activity_3.ipynb\" target=\"_parent\"><img src=\"https://colab.research.google.com/assets/colab-badge.svg\" alt=\"Open In Colab\"/></a>"
      ]
    },
    {
      "cell_type": "markdown",
      "id": "26550237-15cd-45e2-81e1-556bad05a917",
      "metadata": {
        "id": "26550237-15cd-45e2-81e1-556bad05a917"
      },
      "source": [
        "# Activity 3: Practicing with Pandas"
      ]
    },
    {
      "cell_type": "markdown",
      "id": "4765796a-69ae-4a80-9529-2843912df581",
      "metadata": {
        "id": "4765796a-69ae-4a80-9529-2843912df581"
      },
      "source": [
        "For this activity, we will assume the role of a data scientist in the search for and evaluation of public datasets. In turn, pay close attention to the dataset you choose for counter narratives or nonapparent political values, gaps or underrepresented perspectives.\n",
        "\n",
        "Please make sure you open this file in Jupyter Notebook or Google Colab -- you will have to either open Jupyter Notebook first or upload the file to Google Colab before being able to edit the file.\n",
        "\n",
        "Please make sure you **print your output.** You may need to use ```print``` for your output to be displayed.\n",
        "\n",
        "-----\n",
        "## Submission Instructions\n",
        "1. Upload the completed activity to the \"Activities\" folder of your GitHub Portfolio;\n",
        "2. Ensure your submission consists of two files: <br/>(a) one single-page reflection in markdown (e.g. `a3_reflection.md`);  <br/>(b) one Jupyter notebook with completed responses to each activity step (e.g. `a3_pandas.ipynb`)."
      ]
    },
    {
      "cell_type": "markdown",
      "id": "b87c910a-66ee-4166-9737-546b68d3e61e",
      "metadata": {
        "id": "b87c910a-66ee-4166-9737-546b68d3e61e"
      },
      "source": [
        "## Data biography: Trans-Atlantic Slave Trade dataset\n",
        "\n",
        "To complete the assignment, please make sure you download the dataset from where it hosted on our GitHub: [Trans-Atlantic-Slave-Trade_Americas.csv](https://github.com/zmuhls/ccny-data-science/blob/main/assets/datasets/Trans-Atlantic-Slave-Trade_Americas.csv)"
      ]
    },
    {
      "cell_type": "markdown",
      "id": "8749ea10-27e1-4210-b638-abe62a45f609",
      "metadata": {
        "id": "8749ea10-27e1-4210-b638-abe62a45f609"
      },
      "source": [
        "## Data Biography (1-2 Paragraphs)\n",
        "\n",
        "Before you begin your exploration, you will provide a short data biography (1 - 2 paragraphs) on the dataset that addresses **where the data came from, who collected it, and the original intention(s) for its collection.**\n",
        "\n",
        "You may find the following sources useful for your research:\n",
        "* [Slave Voyages' Trans-Atlantic Slave Trade methodology](https://www.slavevoyages.org/voyage/about#methodology/introduction/0/en/)\n",
        "    * You may find the sections: Introduction, Coverage of the Slave Trade, and Nature of Sources particularly useful.\n",
        "* [Slave Voyages' About](https://www.slavevoyages.org/about/about#)\n",
        "* [Jamelle Bouie's We Still Can’t See American Slavery for What It Was](https://csc10800.github.io/assets/pdf/Bouie_we_still_cant_see_american_slavery_for_what_it_is.pdf)"
      ]
    },
    {
      "cell_type": "markdown",
      "id": "a40ee643-dbe8-4059-8953-95c11f938235",
      "metadata": {
        "jp-MarkdownHeadingCollapsed": true,
        "id": "a40ee643-dbe8-4059-8953-95c11f938235"
      },
      "source": [
        "**Enclose Data Biography below (1-2 Paragraph)**:\n",
        "</br>\n",
        "</br>\n",
        "</br>\n"
      ]
    },
    {
      "cell_type": "markdown",
      "id": "1dc86a86-51b2-4bcf-8ad4-18901364e363",
      "metadata": {
        "id": "1dc86a86-51b2-4bcf-8ad4-18901364e363"
      },
      "source": [
        "-----"
      ]
    },
    {
      "cell_type": "markdown",
      "id": "4769c8e1-a906-4f5d-9b34-0ab30e613d81",
      "metadata": {
        "id": "4769c8e1-a906-4f5d-9b34-0ab30e613d81"
      },
      "source": [
        "## Download and explore dataset\n",
        "\n",
        "As we have been practicing in class, the questions that follow will require you to consider what output you will need before running the appropriate python codes.\n",
        "\n",
        "To ensure your code runs, please remember to load ```pandas``` and the ```Trans-Atlantic-Slave-Trade_Americas.csv``` file into the jupyter notebook environment.\n",
        "\n",
        "If you are running this on Google Colab, please make sure you connect your google drive with your Colab notebook first before attempting the exercise:\n",
        "```\n",
        "from google.colab import drive\n",
        "drive.mount('/content/drive')\n",
        "```"
      ]
    },
    {
      "cell_type": "code",
      "execution_count": null,
      "id": "c79198e7-340c-4f70-bdb6-4bc50750a6f3",
      "metadata": {
        "id": "c79198e7-340c-4f70-bdb6-4bc50750a6f3",
        "outputId": "49c904b8-4b43-4250-b8fd-ea98f1783fe3",
        "colab": {
          "base_uri": "https://localhost:8080/"
        }
      },
      "outputs": [
        {
          "output_type": "stream",
          "name": "stdout",
          "text": [
            "Mounted at /content/drive\n"
          ]
        }
      ],
      "source": [
        "from google.colab import drive\n",
        "drive.mount('/content/drive')"
      ]
    },
    {
      "cell_type": "markdown",
      "id": "1dd42939-8b33-40be-9633-877c4142dcdb",
      "metadata": {
        "id": "1dd42939-8b33-40be-9633-877c4142dcdb"
      },
      "source": [
        "### 2. How many rows of data does the dataset contain?</br>\n",
        "In this first step, you’ll load the dataset and examine its structure. Loading data is foundational in data science and digital humanities workflows. You’ll use the `pandas` library to read a CSV file and display its first few rows.</br>\n",
        "* **Hint**: See Melanie Walsh's chapter on Pandas Basics if you're stuck: [Pandas Basics – Part 1](https://melaniewalsh.github.io/Intro-Cultural-Analytics/03-Data-Analysis/01-Pandas-Basics-Part1.html)).\n",
        "\n"
      ]
    },
    {
      "cell_type": "code",
      "execution_count": 3,
      "id": "a3afd56e-4d46-4d01-be8b-a65380a1f681",
      "metadata": {
        "id": "a3afd56e-4d46-4d01-be8b-a65380a1f681"
      },
      "outputs": [],
      "source": [
        "import pandas as pd"
      ]
    },
    {
      "cell_type": "code",
      "source": [
        "pd.options.display.max_rows = 100"
      ],
      "metadata": {
        "id": "wnk9xX_gRWEd"
      },
      "id": "wnk9xX_gRWEd",
      "execution_count": 4,
      "outputs": []
    },
    {
      "cell_type": "code",
      "source": [
        "slave_voyages_df = pd.read_csv('/content/Trans-Atlantic-Slave-Trade_Americas (1).csv', delimiter=\",\")"
      ],
      "metadata": {
        "id": "e8wTkfd7RWs2"
      },
      "id": "e8wTkfd7RWs2",
      "execution_count": 5,
      "outputs": []
    },
    {
      "cell_type": "code",
      "source": [
        "slave_voyages_df"
      ],
      "metadata": {
        "id": "JgONsrxIQMjI",
        "outputId": "aa4e7b9d-8464-4715-8092-34624e3cf67a",
        "colab": {
          "base_uri": "https://localhost:8080/",
          "height": 669
        }
      },
      "id": "JgONsrxIQMjI",
      "execution_count": 6,
      "outputs": [
        {
          "output_type": "execute_result",
          "data": {
            "text/plain": [
              "       year_of_arrival               flag          place_of_purchase  \\\n",
              "0                 1520                NaN          Portuguese Guinea   \n",
              "1                 1525  Portugal / Brazil                   Sao Tome   \n",
              "2                 1526    Spain / Uruguay         Cape Verde Islands   \n",
              "3                 1526    Spain / Uruguay         Cape Verde Islands   \n",
              "4                 1526                NaN         Cape Verde Islands   \n",
              "...                ...                ...                        ...   \n",
              "20774             1864    Spain / Uruguay  Africa., port unspecified   \n",
              "20775             1865    Spain / Uruguay  Africa., port unspecified   \n",
              "20776             1865                NaN  Africa., port unspecified   \n",
              "20777             1865                NaN                Congo River   \n",
              "20778             1866                NaN  Africa., port unspecified   \n",
              "\n",
              "                     place_of_landing  percent_women  percent_children  \\\n",
              "0                            San Juan            NaN               NaN   \n",
              "1             Hispaniola, unspecified            NaN               NaN   \n",
              "2              Cuba, port unspecified            NaN               NaN   \n",
              "3              Cuba, port unspecified            NaN               NaN   \n",
              "4      Caribbean (colony unspecified)            NaN               NaN   \n",
              "...                               ...            ...               ...   \n",
              "20774          Cuba, port unspecified            NaN               NaN   \n",
              "20775                   Isla de Pinas            NaN               NaN   \n",
              "20776                          Mariel            NaN               NaN   \n",
              "20777          Cuba, port unspecified            NaN               NaN   \n",
              "20778          Cuba, port unspecified            NaN               NaN   \n",
              "\n",
              "       percent_men  total_embarked  total_disembarked    resistance_label  \\\n",
              "0              NaN           324.0              259.0                 NaN   \n",
              "1              NaN           359.0              287.0                 NaN   \n",
              "2              NaN           359.0              287.0                 NaN   \n",
              "3              NaN           359.0              287.0                 NaN   \n",
              "4              NaN           359.0              287.0                 NaN   \n",
              "...            ...             ...                ...                 ...   \n",
              "20774          NaN           488.0              465.0                 NaN   \n",
              "20775          NaN           152.0              145.0  Slave insurrection   \n",
              "20776          NaN           780.0              650.0                 NaN   \n",
              "20777          NaN          1265.0             1004.0                 NaN   \n",
              "20778          NaN           851.0              700.0                 NaN   \n",
              "\n",
              "             vessel_name       captain's_name  voyage_id  \\\n",
              "0                                         NaN      42987   \n",
              "1      S Maria de Bogoña       Monteiro, Pero      46473   \n",
              "2                         Carega, Esteban (?)      11297   \n",
              "3                         Carega, Esteban (?)      11298   \n",
              "4                S Anton        Leon, Juan de      42631   \n",
              "...                  ...                  ...        ...   \n",
              "20774             Polaca                  NaN      46554   \n",
              "20775               Gato                  NaN       4394   \n",
              "20776                                     NaN       4395   \n",
              "20777            Cicerón             Mesquita       5052   \n",
              "20778                                     NaN       4998   \n",
              "\n",
              "                                                 sources  \n",
              "0      [u'AGI,Patronato 175, r.9<><p><em>AG!</em> (Se...  \n",
              "1      [u'ANTT,CC,Parte II, maco 131, doc 54<><i>Inst...  \n",
              "2      [u'Pike,60-1,172<>Pike, Ruth, <i>Enterprise</i...  \n",
              "3      [u'Pike,60-1,172<>Pike, Ruth, <i>Enterprise</i...  \n",
              "4      [u'Chaunus, 3: 162-63<><p>Chaunus, <em>xxxxxx<...  \n",
              "...                                                  ...  \n",
              "20774  [u'AHNM, Ultramar, Leg. 3551, 6<><i>Archivo Hi...  \n",
              "20775  [u'IUP,ST,50/B/137<>Great Britain, <i>Irish Un...  \n",
              "20776  [u'IUP,ST,50/B/144<>Great Britain, <i>Irish Un...  \n",
              "20777  [u'IUP,ST,50/A/23-4<>Great Britain, <i>Irish U...  \n",
              "20778  [u'IUP,ST,50/B/220<>Great Britain, <i>Irish Un...  \n",
              "\n",
              "[20779 rows x 14 columns]"
            ],
            "text/html": [
              "\n",
              "  <div id=\"df-944d67d0-f512-412d-8632-42754c60be7a\" class=\"colab-df-container\">\n",
              "    <div>\n",
              "<style scoped>\n",
              "    .dataframe tbody tr th:only-of-type {\n",
              "        vertical-align: middle;\n",
              "    }\n",
              "\n",
              "    .dataframe tbody tr th {\n",
              "        vertical-align: top;\n",
              "    }\n",
              "\n",
              "    .dataframe thead th {\n",
              "        text-align: right;\n",
              "    }\n",
              "</style>\n",
              "<table border=\"1\" class=\"dataframe\">\n",
              "  <thead>\n",
              "    <tr style=\"text-align: right;\">\n",
              "      <th></th>\n",
              "      <th>year_of_arrival</th>\n",
              "      <th>flag</th>\n",
              "      <th>place_of_purchase</th>\n",
              "      <th>place_of_landing</th>\n",
              "      <th>percent_women</th>\n",
              "      <th>percent_children</th>\n",
              "      <th>percent_men</th>\n",
              "      <th>total_embarked</th>\n",
              "      <th>total_disembarked</th>\n",
              "      <th>resistance_label</th>\n",
              "      <th>vessel_name</th>\n",
              "      <th>captain's_name</th>\n",
              "      <th>voyage_id</th>\n",
              "      <th>sources</th>\n",
              "    </tr>\n",
              "  </thead>\n",
              "  <tbody>\n",
              "    <tr>\n",
              "      <th>0</th>\n",
              "      <td>1520</td>\n",
              "      <td>NaN</td>\n",
              "      <td>Portuguese Guinea</td>\n",
              "      <td>San Juan</td>\n",
              "      <td>NaN</td>\n",
              "      <td>NaN</td>\n",
              "      <td>NaN</td>\n",
              "      <td>324.0</td>\n",
              "      <td>259.0</td>\n",
              "      <td>NaN</td>\n",
              "      <td></td>\n",
              "      <td>NaN</td>\n",
              "      <td>42987</td>\n",
              "      <td>[u'AGI,Patronato 175, r.9&lt;&gt;&lt;p&gt;&lt;em&gt;AG!&lt;/em&gt; (Se...</td>\n",
              "    </tr>\n",
              "    <tr>\n",
              "      <th>1</th>\n",
              "      <td>1525</td>\n",
              "      <td>Portugal / Brazil</td>\n",
              "      <td>Sao Tome</td>\n",
              "      <td>Hispaniola, unspecified</td>\n",
              "      <td>NaN</td>\n",
              "      <td>NaN</td>\n",
              "      <td>NaN</td>\n",
              "      <td>359.0</td>\n",
              "      <td>287.0</td>\n",
              "      <td>NaN</td>\n",
              "      <td>S Maria de Bogoña</td>\n",
              "      <td>Monteiro, Pero</td>\n",
              "      <td>46473</td>\n",
              "      <td>[u'ANTT,CC,Parte II, maco 131, doc 54&lt;&gt;&lt;i&gt;Inst...</td>\n",
              "    </tr>\n",
              "    <tr>\n",
              "      <th>2</th>\n",
              "      <td>1526</td>\n",
              "      <td>Spain / Uruguay</td>\n",
              "      <td>Cape Verde Islands</td>\n",
              "      <td>Cuba, port unspecified</td>\n",
              "      <td>NaN</td>\n",
              "      <td>NaN</td>\n",
              "      <td>NaN</td>\n",
              "      <td>359.0</td>\n",
              "      <td>287.0</td>\n",
              "      <td>NaN</td>\n",
              "      <td></td>\n",
              "      <td>Carega, Esteban (?)</td>\n",
              "      <td>11297</td>\n",
              "      <td>[u'Pike,60-1,172&lt;&gt;Pike, Ruth, &lt;i&gt;Enterprise&lt;/i...</td>\n",
              "    </tr>\n",
              "    <tr>\n",
              "      <th>3</th>\n",
              "      <td>1526</td>\n",
              "      <td>Spain / Uruguay</td>\n",
              "      <td>Cape Verde Islands</td>\n",
              "      <td>Cuba, port unspecified</td>\n",
              "      <td>NaN</td>\n",
              "      <td>NaN</td>\n",
              "      <td>NaN</td>\n",
              "      <td>359.0</td>\n",
              "      <td>287.0</td>\n",
              "      <td>NaN</td>\n",
              "      <td></td>\n",
              "      <td>Carega, Esteban (?)</td>\n",
              "      <td>11298</td>\n",
              "      <td>[u'Pike,60-1,172&lt;&gt;Pike, Ruth, &lt;i&gt;Enterprise&lt;/i...</td>\n",
              "    </tr>\n",
              "    <tr>\n",
              "      <th>4</th>\n",
              "      <td>1526</td>\n",
              "      <td>NaN</td>\n",
              "      <td>Cape Verde Islands</td>\n",
              "      <td>Caribbean (colony unspecified)</td>\n",
              "      <td>NaN</td>\n",
              "      <td>NaN</td>\n",
              "      <td>NaN</td>\n",
              "      <td>359.0</td>\n",
              "      <td>287.0</td>\n",
              "      <td>NaN</td>\n",
              "      <td>S Anton</td>\n",
              "      <td>Leon, Juan de</td>\n",
              "      <td>42631</td>\n",
              "      <td>[u'Chaunus, 3: 162-63&lt;&gt;&lt;p&gt;Chaunus, &lt;em&gt;xxxxxx&lt;...</td>\n",
              "    </tr>\n",
              "    <tr>\n",
              "      <th>...</th>\n",
              "      <td>...</td>\n",
              "      <td>...</td>\n",
              "      <td>...</td>\n",
              "      <td>...</td>\n",
              "      <td>...</td>\n",
              "      <td>...</td>\n",
              "      <td>...</td>\n",
              "      <td>...</td>\n",
              "      <td>...</td>\n",
              "      <td>...</td>\n",
              "      <td>...</td>\n",
              "      <td>...</td>\n",
              "      <td>...</td>\n",
              "      <td>...</td>\n",
              "    </tr>\n",
              "    <tr>\n",
              "      <th>20774</th>\n",
              "      <td>1864</td>\n",
              "      <td>Spain / Uruguay</td>\n",
              "      <td>Africa., port unspecified</td>\n",
              "      <td>Cuba, port unspecified</td>\n",
              "      <td>NaN</td>\n",
              "      <td>NaN</td>\n",
              "      <td>NaN</td>\n",
              "      <td>488.0</td>\n",
              "      <td>465.0</td>\n",
              "      <td>NaN</td>\n",
              "      <td>Polaca</td>\n",
              "      <td>NaN</td>\n",
              "      <td>46554</td>\n",
              "      <td>[u'AHNM, Ultramar, Leg. 3551, 6&lt;&gt;&lt;i&gt;Archivo Hi...</td>\n",
              "    </tr>\n",
              "    <tr>\n",
              "      <th>20775</th>\n",
              "      <td>1865</td>\n",
              "      <td>Spain / Uruguay</td>\n",
              "      <td>Africa., port unspecified</td>\n",
              "      <td>Isla de Pinas</td>\n",
              "      <td>NaN</td>\n",
              "      <td>NaN</td>\n",
              "      <td>NaN</td>\n",
              "      <td>152.0</td>\n",
              "      <td>145.0</td>\n",
              "      <td>Slave insurrection</td>\n",
              "      <td>Gato</td>\n",
              "      <td>NaN</td>\n",
              "      <td>4394</td>\n",
              "      <td>[u'IUP,ST,50/B/137&lt;&gt;Great Britain, &lt;i&gt;Irish Un...</td>\n",
              "    </tr>\n",
              "    <tr>\n",
              "      <th>20776</th>\n",
              "      <td>1865</td>\n",
              "      <td>NaN</td>\n",
              "      <td>Africa., port unspecified</td>\n",
              "      <td>Mariel</td>\n",
              "      <td>NaN</td>\n",
              "      <td>NaN</td>\n",
              "      <td>NaN</td>\n",
              "      <td>780.0</td>\n",
              "      <td>650.0</td>\n",
              "      <td>NaN</td>\n",
              "      <td></td>\n",
              "      <td>NaN</td>\n",
              "      <td>4395</td>\n",
              "      <td>[u'IUP,ST,50/B/144&lt;&gt;Great Britain, &lt;i&gt;Irish Un...</td>\n",
              "    </tr>\n",
              "    <tr>\n",
              "      <th>20777</th>\n",
              "      <td>1865</td>\n",
              "      <td>NaN</td>\n",
              "      <td>Congo River</td>\n",
              "      <td>Cuba, port unspecified</td>\n",
              "      <td>NaN</td>\n",
              "      <td>NaN</td>\n",
              "      <td>NaN</td>\n",
              "      <td>1265.0</td>\n",
              "      <td>1004.0</td>\n",
              "      <td>NaN</td>\n",
              "      <td>Cicerón</td>\n",
              "      <td>Mesquita</td>\n",
              "      <td>5052</td>\n",
              "      <td>[u'IUP,ST,50/A/23-4&lt;&gt;Great Britain, &lt;i&gt;Irish U...</td>\n",
              "    </tr>\n",
              "    <tr>\n",
              "      <th>20778</th>\n",
              "      <td>1866</td>\n",
              "      <td>NaN</td>\n",
              "      <td>Africa., port unspecified</td>\n",
              "      <td>Cuba, port unspecified</td>\n",
              "      <td>NaN</td>\n",
              "      <td>NaN</td>\n",
              "      <td>NaN</td>\n",
              "      <td>851.0</td>\n",
              "      <td>700.0</td>\n",
              "      <td>NaN</td>\n",
              "      <td></td>\n",
              "      <td>NaN</td>\n",
              "      <td>4998</td>\n",
              "      <td>[u'IUP,ST,50/B/220&lt;&gt;Great Britain, &lt;i&gt;Irish Un...</td>\n",
              "    </tr>\n",
              "  </tbody>\n",
              "</table>\n",
              "<p>20779 rows × 14 columns</p>\n",
              "</div>\n",
              "    <div class=\"colab-df-buttons\">\n",
              "\n",
              "  <div class=\"colab-df-container\">\n",
              "    <button class=\"colab-df-convert\" onclick=\"convertToInteractive('df-944d67d0-f512-412d-8632-42754c60be7a')\"\n",
              "            title=\"Convert this dataframe to an interactive table.\"\n",
              "            style=\"display:none;\">\n",
              "\n",
              "  <svg xmlns=\"http://www.w3.org/2000/svg\" height=\"24px\" viewBox=\"0 -960 960 960\">\n",
              "    <path d=\"M120-120v-720h720v720H120Zm60-500h600v-160H180v160Zm220 220h160v-160H400v160Zm0 220h160v-160H400v160ZM180-400h160v-160H180v160Zm440 0h160v-160H620v160ZM180-180h160v-160H180v160Zm440 0h160v-160H620v160Z\"/>\n",
              "  </svg>\n",
              "    </button>\n",
              "\n",
              "  <style>\n",
              "    .colab-df-container {\n",
              "      display:flex;\n",
              "      gap: 12px;\n",
              "    }\n",
              "\n",
              "    .colab-df-convert {\n",
              "      background-color: #E8F0FE;\n",
              "      border: none;\n",
              "      border-radius: 50%;\n",
              "      cursor: pointer;\n",
              "      display: none;\n",
              "      fill: #1967D2;\n",
              "      height: 32px;\n",
              "      padding: 0 0 0 0;\n",
              "      width: 32px;\n",
              "    }\n",
              "\n",
              "    .colab-df-convert:hover {\n",
              "      background-color: #E2EBFA;\n",
              "      box-shadow: 0px 1px 2px rgba(60, 64, 67, 0.3), 0px 1px 3px 1px rgba(60, 64, 67, 0.15);\n",
              "      fill: #174EA6;\n",
              "    }\n",
              "\n",
              "    .colab-df-buttons div {\n",
              "      margin-bottom: 4px;\n",
              "    }\n",
              "\n",
              "    [theme=dark] .colab-df-convert {\n",
              "      background-color: #3B4455;\n",
              "      fill: #D2E3FC;\n",
              "    }\n",
              "\n",
              "    [theme=dark] .colab-df-convert:hover {\n",
              "      background-color: #434B5C;\n",
              "      box-shadow: 0px 1px 3px 1px rgba(0, 0, 0, 0.15);\n",
              "      filter: drop-shadow(0px 1px 2px rgba(0, 0, 0, 0.3));\n",
              "      fill: #FFFFFF;\n",
              "    }\n",
              "  </style>\n",
              "\n",
              "    <script>\n",
              "      const buttonEl =\n",
              "        document.querySelector('#df-944d67d0-f512-412d-8632-42754c60be7a button.colab-df-convert');\n",
              "      buttonEl.style.display =\n",
              "        google.colab.kernel.accessAllowed ? 'block' : 'none';\n",
              "\n",
              "      async function convertToInteractive(key) {\n",
              "        const element = document.querySelector('#df-944d67d0-f512-412d-8632-42754c60be7a');\n",
              "        const dataTable =\n",
              "          await google.colab.kernel.invokeFunction('convertToInteractive',\n",
              "                                                    [key], {});\n",
              "        if (!dataTable) return;\n",
              "\n",
              "        const docLinkHtml = 'Like what you see? Visit the ' +\n",
              "          '<a target=\"_blank\" href=https://colab.research.google.com/notebooks/data_table.ipynb>data table notebook</a>'\n",
              "          + ' to learn more about interactive tables.';\n",
              "        element.innerHTML = '';\n",
              "        dataTable['output_type'] = 'display_data';\n",
              "        await google.colab.output.renderOutput(dataTable, element);\n",
              "        const docLink = document.createElement('div');\n",
              "        docLink.innerHTML = docLinkHtml;\n",
              "        element.appendChild(docLink);\n",
              "      }\n",
              "    </script>\n",
              "  </div>\n",
              "\n",
              "\n",
              "<div id=\"df-f567f7c3-f4f7-4712-8c42-eaf258cf2e0a\">\n",
              "  <button class=\"colab-df-quickchart\" onclick=\"quickchart('df-f567f7c3-f4f7-4712-8c42-eaf258cf2e0a')\"\n",
              "            title=\"Suggest charts\"\n",
              "            style=\"display:none;\">\n",
              "\n",
              "<svg xmlns=\"http://www.w3.org/2000/svg\" height=\"24px\"viewBox=\"0 0 24 24\"\n",
              "     width=\"24px\">\n",
              "    <g>\n",
              "        <path d=\"M19 3H5c-1.1 0-2 .9-2 2v14c0 1.1.9 2 2 2h14c1.1 0 2-.9 2-2V5c0-1.1-.9-2-2-2zM9 17H7v-7h2v7zm4 0h-2V7h2v10zm4 0h-2v-4h2v4z\"/>\n",
              "    </g>\n",
              "</svg>\n",
              "  </button>\n",
              "\n",
              "<style>\n",
              "  .colab-df-quickchart {\n",
              "      --bg-color: #E8F0FE;\n",
              "      --fill-color: #1967D2;\n",
              "      --hover-bg-color: #E2EBFA;\n",
              "      --hover-fill-color: #174EA6;\n",
              "      --disabled-fill-color: #AAA;\n",
              "      --disabled-bg-color: #DDD;\n",
              "  }\n",
              "\n",
              "  [theme=dark] .colab-df-quickchart {\n",
              "      --bg-color: #3B4455;\n",
              "      --fill-color: #D2E3FC;\n",
              "      --hover-bg-color: #434B5C;\n",
              "      --hover-fill-color: #FFFFFF;\n",
              "      --disabled-bg-color: #3B4455;\n",
              "      --disabled-fill-color: #666;\n",
              "  }\n",
              "\n",
              "  .colab-df-quickchart {\n",
              "    background-color: var(--bg-color);\n",
              "    border: none;\n",
              "    border-radius: 50%;\n",
              "    cursor: pointer;\n",
              "    display: none;\n",
              "    fill: var(--fill-color);\n",
              "    height: 32px;\n",
              "    padding: 0;\n",
              "    width: 32px;\n",
              "  }\n",
              "\n",
              "  .colab-df-quickchart:hover {\n",
              "    background-color: var(--hover-bg-color);\n",
              "    box-shadow: 0 1px 2px rgba(60, 64, 67, 0.3), 0 1px 3px 1px rgba(60, 64, 67, 0.15);\n",
              "    fill: var(--button-hover-fill-color);\n",
              "  }\n",
              "\n",
              "  .colab-df-quickchart-complete:disabled,\n",
              "  .colab-df-quickchart-complete:disabled:hover {\n",
              "    background-color: var(--disabled-bg-color);\n",
              "    fill: var(--disabled-fill-color);\n",
              "    box-shadow: none;\n",
              "  }\n",
              "\n",
              "  .colab-df-spinner {\n",
              "    border: 2px solid var(--fill-color);\n",
              "    border-color: transparent;\n",
              "    border-bottom-color: var(--fill-color);\n",
              "    animation:\n",
              "      spin 1s steps(1) infinite;\n",
              "  }\n",
              "\n",
              "  @keyframes spin {\n",
              "    0% {\n",
              "      border-color: transparent;\n",
              "      border-bottom-color: var(--fill-color);\n",
              "      border-left-color: var(--fill-color);\n",
              "    }\n",
              "    20% {\n",
              "      border-color: transparent;\n",
              "      border-left-color: var(--fill-color);\n",
              "      border-top-color: var(--fill-color);\n",
              "    }\n",
              "    30% {\n",
              "      border-color: transparent;\n",
              "      border-left-color: var(--fill-color);\n",
              "      border-top-color: var(--fill-color);\n",
              "      border-right-color: var(--fill-color);\n",
              "    }\n",
              "    40% {\n",
              "      border-color: transparent;\n",
              "      border-right-color: var(--fill-color);\n",
              "      border-top-color: var(--fill-color);\n",
              "    }\n",
              "    60% {\n",
              "      border-color: transparent;\n",
              "      border-right-color: var(--fill-color);\n",
              "    }\n",
              "    80% {\n",
              "      border-color: transparent;\n",
              "      border-right-color: var(--fill-color);\n",
              "      border-bottom-color: var(--fill-color);\n",
              "    }\n",
              "    90% {\n",
              "      border-color: transparent;\n",
              "      border-bottom-color: var(--fill-color);\n",
              "    }\n",
              "  }\n",
              "</style>\n",
              "\n",
              "  <script>\n",
              "    async function quickchart(key) {\n",
              "      const quickchartButtonEl =\n",
              "        document.querySelector('#' + key + ' button');\n",
              "      quickchartButtonEl.disabled = true;  // To prevent multiple clicks.\n",
              "      quickchartButtonEl.classList.add('colab-df-spinner');\n",
              "      try {\n",
              "        const charts = await google.colab.kernel.invokeFunction(\n",
              "            'suggestCharts', [key], {});\n",
              "      } catch (error) {\n",
              "        console.error('Error during call to suggestCharts:', error);\n",
              "      }\n",
              "      quickchartButtonEl.classList.remove('colab-df-spinner');\n",
              "      quickchartButtonEl.classList.add('colab-df-quickchart-complete');\n",
              "    }\n",
              "    (() => {\n",
              "      let quickchartButtonEl =\n",
              "        document.querySelector('#df-f567f7c3-f4f7-4712-8c42-eaf258cf2e0a button');\n",
              "      quickchartButtonEl.style.display =\n",
              "        google.colab.kernel.accessAllowed ? 'block' : 'none';\n",
              "    })();\n",
              "  </script>\n",
              "</div>\n",
              "\n",
              "  <div id=\"id_5f687f91-45ff-48c6-a863-9990b9dfcd8b\">\n",
              "    <style>\n",
              "      .colab-df-generate {\n",
              "        background-color: #E8F0FE;\n",
              "        border: none;\n",
              "        border-radius: 50%;\n",
              "        cursor: pointer;\n",
              "        display: none;\n",
              "        fill: #1967D2;\n",
              "        height: 32px;\n",
              "        padding: 0 0 0 0;\n",
              "        width: 32px;\n",
              "      }\n",
              "\n",
              "      .colab-df-generate:hover {\n",
              "        background-color: #E2EBFA;\n",
              "        box-shadow: 0px 1px 2px rgba(60, 64, 67, 0.3), 0px 1px 3px 1px rgba(60, 64, 67, 0.15);\n",
              "        fill: #174EA6;\n",
              "      }\n",
              "\n",
              "      [theme=dark] .colab-df-generate {\n",
              "        background-color: #3B4455;\n",
              "        fill: #D2E3FC;\n",
              "      }\n",
              "\n",
              "      [theme=dark] .colab-df-generate:hover {\n",
              "        background-color: #434B5C;\n",
              "        box-shadow: 0px 1px 3px 1px rgba(0, 0, 0, 0.15);\n",
              "        filter: drop-shadow(0px 1px 2px rgba(0, 0, 0, 0.3));\n",
              "        fill: #FFFFFF;\n",
              "      }\n",
              "    </style>\n",
              "    <button class=\"colab-df-generate\" onclick=\"generateWithVariable('slave_voyages_df')\"\n",
              "            title=\"Generate code using this dataframe.\"\n",
              "            style=\"display:none;\">\n",
              "\n",
              "  <svg xmlns=\"http://www.w3.org/2000/svg\" height=\"24px\"viewBox=\"0 0 24 24\"\n",
              "       width=\"24px\">\n",
              "    <path d=\"M7,19H8.4L18.45,9,17,7.55,7,17.6ZM5,21V16.75L18.45,3.32a2,2,0,0,1,2.83,0l1.4,1.43a1.91,1.91,0,0,1,.58,1.4,1.91,1.91,0,0,1-.58,1.4L9.25,21ZM18.45,9,17,7.55Zm-12,3A5.31,5.31,0,0,0,4.9,8.1,5.31,5.31,0,0,0,1,6.5,5.31,5.31,0,0,0,4.9,4.9,5.31,5.31,0,0,0,6.5,1,5.31,5.31,0,0,0,8.1,4.9,5.31,5.31,0,0,0,12,6.5,5.46,5.46,0,0,0,6.5,12Z\"/>\n",
              "  </svg>\n",
              "    </button>\n",
              "    <script>\n",
              "      (() => {\n",
              "      const buttonEl =\n",
              "        document.querySelector('#id_5f687f91-45ff-48c6-a863-9990b9dfcd8b button.colab-df-generate');\n",
              "      buttonEl.style.display =\n",
              "        google.colab.kernel.accessAllowed ? 'block' : 'none';\n",
              "\n",
              "      buttonEl.onclick = () => {\n",
              "        google.colab.notebook.generateWithVariable('slave_voyages_df');\n",
              "      }\n",
              "      })();\n",
              "    </script>\n",
              "  </div>\n",
              "\n",
              "    </div>\n",
              "  </div>\n"
            ],
            "application/vnd.google.colaboratory.intrinsic+json": {
              "type": "dataframe",
              "variable_name": "slave_voyages_df",
              "summary": "{\n  \"name\": \"slave_voyages_df\",\n  \"rows\": 20779,\n  \"fields\": [\n    {\n      \"column\": \"year_of_arrival\",\n      \"properties\": {\n        \"dtype\": \"number\",\n        \"std\": 59,\n        \"min\": 1520,\n        \"max\": 1866,\n        \"num_unique_values\": 330,\n        \"samples\": [\n          1542,\n          1701,\n          1676\n        ],\n        \"semantic_type\": \"\",\n        \"description\": \"\"\n      }\n    },\n    {\n      \"column\": \"flag\",\n      \"properties\": {\n        \"dtype\": \"category\",\n        \"num_unique_values\": 8,\n        \"samples\": [\n          \"Spain / Uruguay\",\n          \"U.S.A.\",\n          \"Portugal / Brazil\"\n        ],\n        \"semantic_type\": \"\",\n        \"description\": \"\"\n      }\n    },\n    {\n      \"column\": \"place_of_purchase\",\n      \"properties\": {\n        \"dtype\": \"category\",\n        \"num_unique_values\": 156,\n        \"samples\": [\n          \"Ambriz\",\n          \"Cess\",\n          \"Galam\"\n        ],\n        \"semantic_type\": \"\",\n        \"description\": \"\"\n      }\n    },\n    {\n      \"column\": \"place_of_landing\",\n      \"properties\": {\n        \"dtype\": \"category\",\n        \"num_unique_values\": 187,\n        \"samples\": [\n          \"Mobile\",\n          \"Annapolis\",\n          \"Suriname\"\n        ],\n        \"semantic_type\": \"\",\n        \"description\": \"\"\n      }\n    },\n    {\n      \"column\": \"percent_women\",\n      \"properties\": {\n        \"dtype\": \"number\",\n        \"std\": 0.11716450656039482,\n        \"min\": 0.0,\n        \"max\": 1.0,\n        \"num_unique_values\": 2366,\n        \"samples\": [\n          0.20127,\n          0.26378,\n          0.17472\n        ],\n        \"semantic_type\": \"\",\n        \"description\": \"\"\n      }\n    },\n    {\n      \"column\": \"percent_children\",\n      \"properties\": {\n        \"dtype\": \"number\",\n        \"std\": 0.1498272501841525,\n        \"min\": 0.0,\n        \"max\": 1.0,\n        \"num_unique_values\": 2396,\n        \"samples\": [\n          0.64384,\n          0.11486,\n          0.21121\n        ],\n        \"semantic_type\": \"\",\n        \"description\": \"\"\n      }\n    },\n    {\n      \"column\": \"percent_men\",\n      \"properties\": {\n        \"dtype\": \"number\",\n        \"std\": 0.14175803833951098,\n        \"min\": 0.0,\n        \"max\": 1.0,\n        \"num_unique_values\": 2469,\n        \"samples\": [\n          0.98361,\n          0.60488,\n          0.51092\n        ],\n        \"semantic_type\": \"\",\n        \"description\": \"\"\n      }\n    },\n    {\n      \"column\": \"total_embarked\",\n      \"properties\": {\n        \"dtype\": \"number\",\n        \"std\": 148.0149976962869,\n        \"min\": 1.0,\n        \"max\": 2024.0,\n        \"num_unique_values\": 842,\n        \"samples\": [\n          568.0,\n          379.0,\n          554.0\n        ],\n        \"semantic_type\": \"\",\n        \"description\": \"\"\n      }\n    },\n    {\n      \"column\": \"total_disembarked\",\n      \"properties\": {\n        \"dtype\": \"number\",\n        \"std\": 128.06969090782025,\n        \"min\": 1.0,\n        \"max\": 1700.0,\n        \"num_unique_values\": 725,\n        \"samples\": [\n          10.0,\n          539.0,\n          412.0\n        ],\n        \"semantic_type\": \"\",\n        \"description\": \"\"\n      }\n    },\n    {\n      \"column\": \"resistance_label\",\n      \"properties\": {\n        \"dtype\": \"category\",\n        \"num_unique_values\": 6,\n        \"samples\": [\n          \"Slave insurrection\",\n          \"Three or more slaves jumping overboard, missing, or escaped\",\n          \"Cut-off (meaning unclear)\"\n        ],\n        \"semantic_type\": \"\",\n        \"description\": \"\"\n      }\n    },\n    {\n      \"column\": \"vessel_name\",\n      \"properties\": {\n        \"dtype\": \"category\",\n        \"num_unique_values\": 5849,\n        \"samples\": [\n          \"Bridgewater\",\n          \"Lamb Frigate\",\n          \"Joseph and Elizabeth\"\n        ],\n        \"semantic_type\": \"\",\n        \"description\": \"\"\n      }\n    },\n    {\n      \"column\": \"captain's_name\",\n      \"properties\": {\n        \"dtype\": \"string\",\n        \"num_unique_values\": 12233,\n        \"samples\": [\n          \"Hayston, Henry\",\n          \"Jones, David\",\n          \"Lawton, Geo (Jr)\"\n        ],\n        \"semantic_type\": \"\",\n        \"description\": \"\"\n      }\n    },\n    {\n      \"column\": \"voyage_id\",\n      \"properties\": {\n        \"dtype\": \"number\",\n        \"std\": 32388,\n        \"min\": 112,\n        \"max\": 900206,\n        \"num_unique_values\": 20741,\n        \"samples\": [\n          25373,\n          29007,\n          80255\n        ],\n        \"semantic_type\": \"\",\n        \"description\": \"\"\n      }\n    },\n    {\n      \"column\": \"sources\",\n      \"properties\": {\n        \"dtype\": \"string\",\n        \"num_unique_values\": 13754,\n        \"samples\": [\n          \"[u'T70/76,17<><p><em>BNA</em> (Kew), Treasury</p>', u'T70/1222,52<><p><em>BNA</em> (Kew), Treasury</p>', u'T70/936<><p><em>BNA</em> (Kew), Treasury</p>', u'CO1/31,32<><p><em>BNA</em> (Kew)</p>']\",\n          \"[u'CO28/30,130<><p><em>BNA</em> (Kew)</p>']\",\n          \"[u'Richardson,III<><p>Richardson, David, <em>Bristol</em><em>, Africa and the Eighteenth Century Slave Trade to America</em>: Volume 1, <em>The Years of Expansion, 1698-1729</em> (Bristol, 1986); Volume 2, <em>The Years of Ascendancy, 1730-1745</em> (Bristol, 1987); Volume 3, <em>The Years of Decline, 1746-1769</em> (Bristol, 1991); Volume 4, <em>The Final Years, 1770-1807</em> (Bristol, 1997)</p>', u'LList, 10 Nov 1761<><i>Lloyds\\\\u2019 Lists (1741, 1744, 1747-53, 1755, 1757-58, 1760-77, 1779-1808)</i>', u'Lambert,73,386<>Lambert, Sheila (ed.), <i>House of Commons Sessional Papers of the Eighteenth Century</i>, 145 vols. (Wilmington, DE, 1975).']\"\n        ],\n        \"semantic_type\": \"\",\n        \"description\": \"\"\n      }\n    }\n  ]\n}"
            }
          },
          "metadata": {},
          "execution_count": 6
        }
      ]
    },
    {
      "cell_type": "markdown",
      "id": "91143422-e360-4be0-8bae-afd42d835260",
      "metadata": {
        "id": "91143422-e360-4be0-8bae-afd42d835260"
      },
      "source": [
        "**Double click to edit cell**     \n",
        "`Please type your answer here`\n",
        "</br>\n",
        "</br>\n",
        "</br>\n",
        "\n",
        "---\n"
      ]
    },
    {
      "cell_type": "markdown",
      "id": "141f7b97-6853-4382-9bca-12be87c446b3",
      "metadata": {
        "id": "141f7b97-6853-4382-9bca-12be87c446b3"
      },
      "source": [
        "### 3. Are the data types for each column appropriate? Please explain how they are/not approrpiate for your analysis."
      ]
    },
    {
      "cell_type": "markdown",
      "id": "bab74918-52ee-4c6d-80da-b7370081e52d",
      "metadata": {
        "id": "bab74918-52ee-4c6d-80da-b7370081e52d"
      },
      "source": [
        "**Double click to edit cell**     \n",
        "`Please type your answer here`\n",
        "</br>\n",
        "</br>\n",
        "</br>\n",
        "\n",
        "---\n"
      ]
    },
    {
      "cell_type": "markdown",
      "id": "37658740-c9ca-465f-a3d0-a33da65ecb91",
      "metadata": {
        "id": "37658740-c9ca-465f-a3d0-a33da65ecb91"
      },
      "source": [
        "### 4. What is the overall average proportion of ```percent_women```, ```percent_children```, ```percent_men```?"
      ]
    },
    {
      "cell_type": "code",
      "source": [
        "slave_voyages_df['percent_women'].isna().value_counts(normalize=True)"
      ],
      "metadata": {
        "id": "vW-VeZ71mdRH",
        "outputId": "3ea72c2f-5dc4-4aba-eb6d-70f06c018d6e",
        "colab": {
          "base_uri": "https://localhost:8080/",
          "height": 178
        }
      },
      "id": "vW-VeZ71mdRH",
      "execution_count": 7,
      "outputs": [
        {
          "output_type": "execute_result",
          "data": {
            "text/plain": [
              "percent_women\n",
              "True     0.859955\n",
              "False    0.140045\n",
              "Name: proportion, dtype: float64"
            ],
            "text/html": [
              "<div>\n",
              "<style scoped>\n",
              "    .dataframe tbody tr th:only-of-type {\n",
              "        vertical-align: middle;\n",
              "    }\n",
              "\n",
              "    .dataframe tbody tr th {\n",
              "        vertical-align: top;\n",
              "    }\n",
              "\n",
              "    .dataframe thead th {\n",
              "        text-align: right;\n",
              "    }\n",
              "</style>\n",
              "<table border=\"1\" class=\"dataframe\">\n",
              "  <thead>\n",
              "    <tr style=\"text-align: right;\">\n",
              "      <th></th>\n",
              "      <th>proportion</th>\n",
              "    </tr>\n",
              "    <tr>\n",
              "      <th>percent_women</th>\n",
              "      <th></th>\n",
              "    </tr>\n",
              "  </thead>\n",
              "  <tbody>\n",
              "    <tr>\n",
              "      <th>True</th>\n",
              "      <td>0.859955</td>\n",
              "    </tr>\n",
              "    <tr>\n",
              "      <th>False</th>\n",
              "      <td>0.140045</td>\n",
              "    </tr>\n",
              "  </tbody>\n",
              "</table>\n",
              "</div><br><label><b>dtype:</b> float64</label>"
            ]
          },
          "metadata": {},
          "execution_count": 7
        }
      ]
    },
    {
      "cell_type": "code",
      "execution_count": 8,
      "id": "a3b3b700-8339-49c2-9ca1-f35858f86e7e",
      "metadata": {
        "id": "a3b3b700-8339-49c2-9ca1-f35858f86e7e",
        "outputId": "9795dfcd-9fa4-4052-b143-d1f596e59df8",
        "colab": {
          "base_uri": "https://localhost:8080/",
          "height": 523
        }
      },
      "outputs": [
        {
          "output_type": "execute_result",
          "data": {
            "text/plain": [
              "year_of_arrival      1.000000\n",
              "flag                 0.943886\n",
              "place_of_purchase    0.996246\n",
              "place_of_landing     1.000000\n",
              "percent_women        0.140045\n",
              "percent_children     0.141874\n",
              "percent_men          0.140045\n",
              "total_embarked       0.999086\n",
              "total_disembarked    0.998941\n",
              "resistance_label     0.018095\n",
              "vessel_name          1.000000\n",
              "captain's_name       0.935271\n",
              "voyage_id            1.000000\n",
              "sources              1.000000\n",
              "dtype: float64"
            ],
            "text/html": [
              "<div>\n",
              "<style scoped>\n",
              "    .dataframe tbody tr th:only-of-type {\n",
              "        vertical-align: middle;\n",
              "    }\n",
              "\n",
              "    .dataframe tbody tr th {\n",
              "        vertical-align: top;\n",
              "    }\n",
              "\n",
              "    .dataframe thead th {\n",
              "        text-align: right;\n",
              "    }\n",
              "</style>\n",
              "<table border=\"1\" class=\"dataframe\">\n",
              "  <thead>\n",
              "    <tr style=\"text-align: right;\">\n",
              "      <th></th>\n",
              "      <th>0</th>\n",
              "    </tr>\n",
              "  </thead>\n",
              "  <tbody>\n",
              "    <tr>\n",
              "      <th>year_of_arrival</th>\n",
              "      <td>1.000000</td>\n",
              "    </tr>\n",
              "    <tr>\n",
              "      <th>flag</th>\n",
              "      <td>0.943886</td>\n",
              "    </tr>\n",
              "    <tr>\n",
              "      <th>place_of_purchase</th>\n",
              "      <td>0.996246</td>\n",
              "    </tr>\n",
              "    <tr>\n",
              "      <th>place_of_landing</th>\n",
              "      <td>1.000000</td>\n",
              "    </tr>\n",
              "    <tr>\n",
              "      <th>percent_women</th>\n",
              "      <td>0.140045</td>\n",
              "    </tr>\n",
              "    <tr>\n",
              "      <th>percent_children</th>\n",
              "      <td>0.141874</td>\n",
              "    </tr>\n",
              "    <tr>\n",
              "      <th>percent_men</th>\n",
              "      <td>0.140045</td>\n",
              "    </tr>\n",
              "    <tr>\n",
              "      <th>total_embarked</th>\n",
              "      <td>0.999086</td>\n",
              "    </tr>\n",
              "    <tr>\n",
              "      <th>total_disembarked</th>\n",
              "      <td>0.998941</td>\n",
              "    </tr>\n",
              "    <tr>\n",
              "      <th>resistance_label</th>\n",
              "      <td>0.018095</td>\n",
              "    </tr>\n",
              "    <tr>\n",
              "      <th>vessel_name</th>\n",
              "      <td>1.000000</td>\n",
              "    </tr>\n",
              "    <tr>\n",
              "      <th>captain's_name</th>\n",
              "      <td>0.935271</td>\n",
              "    </tr>\n",
              "    <tr>\n",
              "      <th>voyage_id</th>\n",
              "      <td>1.000000</td>\n",
              "    </tr>\n",
              "    <tr>\n",
              "      <th>sources</th>\n",
              "      <td>1.000000</td>\n",
              "    </tr>\n",
              "  </tbody>\n",
              "</table>\n",
              "</div><br><label><b>dtype:</b> float64</label>"
            ]
          },
          "metadata": {},
          "execution_count": 8
        }
      ],
      "source": [
        "slave_voyages_df.count() / len(slave_voyages_df)"
      ]
    },
    {
      "cell_type": "markdown",
      "id": "b4e966c1-1247-4cbc-9a74-0553469d9beb",
      "metadata": {
        "id": "b4e966c1-1247-4cbc-9a74-0553469d9beb"
      },
      "source": [
        "**Double click to edit cell**     \n",
        "`Please type your answer here`\n",
        "</br>\n",
        "</br>\n",
        "</br>\n",
        "\n",
        "\n",
        "---\n"
      ]
    },
    {
      "cell_type": "markdown",
      "id": "8b2269c7-c46c-44bb-8333-1d8ba9022a61",
      "metadata": {
        "id": "8b2269c7-c46c-44bb-8333-1d8ba9022a61"
      },
      "source": [
        "### 5. How many of the column values for ```percent_women```, ```percent_children```, ```percent_men``` are left blank? Suggest 1 reason why majority of the values in these columns are blank."
      ]
    },
    {
      "cell_type": "code",
      "execution_count": 20,
      "id": "a224a0e4-0e56-40f9-aa41-094882deb499",
      "metadata": {
        "id": "a224a0e4-0e56-40f9-aa41-094882deb499",
        "colab": {
          "base_uri": "https://localhost:8080/"
        },
        "outputId": "c650cb92-d824-4b2e-f6d8-5def6649df72"
      },
      "outputs": [
        {
          "output_type": "stream",
          "name": "stdout",
          "text": [
            "Missing Values in Each Column:\n",
            "percent_women       17869\n",
            "percent_children    17831\n",
            "percent_men         17869\n",
            "dtype: int64\n",
            "\n",
            "Reason:\n",
            "The majority of these values are likely blank because demographic details such as percentages of women, children, and men were not consistently recorded or preserved in historical records of the Trans-Atlantic Slave Trade.\n"
          ]
        }
      ],
      "source": [
        "missing_counts = slave_voyages_df[['percent_women', 'percent_children', 'percent_men']].isnull().sum()\n",
        "print(\"Missing Values in Each Column:\")\n",
        "print(missing_counts)\n",
        "print(\"\\nReason:\")\n",
        "print(\"The majority of these values are likely blank because demographic details such as percentages of women, children, and men were not consistently recorded or preserved in historical records of the Trans-Atlantic Slave Trade.\")\n"
      ]
    },
    {
      "cell_type": "markdown",
      "id": "23d4de2a-aa0d-4165-bac4-1b53a8ee2030",
      "metadata": {
        "id": "23d4de2a-aa0d-4165-bac4-1b53a8ee2030"
      },
      "source": [
        "**Double click to edit cell**     \n",
        "`Please type your answer here`\n",
        "</br>\n",
        "</br>\n",
        "</br>\n",
        "\n",
        "---\n"
      ]
    },
    {
      "cell_type": "markdown",
      "id": "43584358-9a8f-45a5-8383-5bf823d8c9be",
      "metadata": {
        "id": "43584358-9a8f-45a5-8383-5bf823d8c9be"
      },
      "source": [
        "### 6. Display all duplicated rows and remove the duplicates. Check that the duplicates were successfully removed. Please also suggest a reason why we would remove duplicates for our analysis.\n",
        "\n",
        "**Level-up**: How many duplicated rows do we have? Recall the methods we have used to help us count things."
      ]
    },
    {
      "source": [
        "duplicated_rows = slave_voyages_df[slave_voyages_df.duplicated()]\n",
        "print(\"\\nDuplicated Rows:\")\n",
        "print(duplicated_rows)\n",
        "num_duplicated_rows = len(duplicated_rows)\n",
        "print(f\"\\nNumber of duplicated rows: {num_duplicated_rows}\")\n",
        "data_csv_no_duplicates = slave_voyages_df.drop_duplicates()\n",
        "print(\"\\nNumber of rows after removing duplicates:\", len(data_csv_no_duplicates))\n",
        "assert len(data_csv_no_duplicates) + num_duplicated_rows == len(slave_voyages_df), \"Mismatch in row counts after duplicate removal!\"\n",
        "print(\"\\nReason for removing duplicates:\")\n",
        "print(\"Removing duplicates ensures that repeated data does not skew analysis results, leading to more accurate and reliable insights.\")"
      ],
      "cell_type": "code",
      "metadata": {
        "colab": {
          "base_uri": "https://localhost:8080/"
        },
        "id": "eTqLayr6ZNMe",
        "outputId": "8861224e-0c41-45fb-d476-93e15fdfdfe4"
      },
      "id": "eTqLayr6ZNMe",
      "execution_count": 19,
      "outputs": [
        {
          "output_type": "stream",
          "name": "stdout",
          "text": [
            "\n",
            "Duplicated Rows:\n",
            "       year_of_arrival              flag  \\\n",
            "213               1577               NaN   \n",
            "214               1577               NaN   \n",
            "215               1577               NaN   \n",
            "283               1586               NaN   \n",
            "285               1586               NaN   \n",
            "286               1586               NaN   \n",
            "769               1602               NaN   \n",
            "770               1602               NaN   \n",
            "1665              1654     Great Britain   \n",
            "1666              1654     Great Britain   \n",
            "1667              1654     Great Britain   \n",
            "9842              1763       Netherlands   \n",
            "9843              1763       Netherlands   \n",
            "9844              1763       Netherlands   \n",
            "9845              1763       Netherlands   \n",
            "10356             1765            France   \n",
            "10357             1765            France   \n",
            "10358             1765            France   \n",
            "10880             1767            France   \n",
            "10881             1767            France   \n",
            "10882             1767            France   \n",
            "14574             1788     Great Britain   \n",
            "14575             1788     Great Britain   \n",
            "14576             1788     Great Britain   \n",
            "14577             1788     Great Britain   \n",
            "14578             1788     Great Britain   \n",
            "14643             1789            U.S.A.   \n",
            "14644             1789            U.S.A.   \n",
            "14645             1789            U.S.A.   \n",
            "16222             1797            U.S.A.   \n",
            "16223             1797            U.S.A.   \n",
            "16224             1797            U.S.A.   \n",
            "16225             1797            U.S.A.   \n",
            "16226             1797            U.S.A.   \n",
            "16227             1797            U.S.A.   \n",
            "16490             1798  Denmark / Baltic   \n",
            "16491             1798  Denmark / Baltic   \n",
            "16492             1798  Denmark / Baltic   \n",
            "\n",
            "                                       place_of_purchase  \\\n",
            "213                                   Cape Verde Islands   \n",
            "214                                   Cape Verde Islands   \n",
            "215                                   Cape Verde Islands   \n",
            "283    Senegambia and offshore Atlantic, port unspeci...   \n",
            "285    Senegambia and offshore Atlantic, port unspeci...   \n",
            "286    Senegambia and offshore Atlantic, port unspeci...   \n",
            "769    West Central Africa and St. Helena, port unspe...   \n",
            "770    West Central Africa and St. Helena, port unspe...   \n",
            "1665                                               Ardra   \n",
            "1666                                               Ardra   \n",
            "1667                                               Ardra   \n",
            "9842                                          Cape Lahou   \n",
            "9843                                          Cape Lahou   \n",
            "9844                                          Cape Lahou   \n",
            "9845                                          Cape Lahou   \n",
            "10356                                        Badagry/Apa   \n",
            "10357                                        Badagry/Apa   \n",
            "10358                                        Badagry/Apa   \n",
            "10880                                            Calabar   \n",
            "10881                                            Calabar   \n",
            "10882                                            Calabar   \n",
            "14574                                        New Calabar   \n",
            "14575                                        New Calabar   \n",
            "14576                                        New Calabar   \n",
            "14577                                        New Calabar   \n",
            "14578                                        New Calabar   \n",
            "14643                          Africa., port unspecified   \n",
            "14644                          Africa., port unspecified   \n",
            "14645                          Africa., port unspecified   \n",
            "16222                                        Iles de Los   \n",
            "16223                                        Iles de Los   \n",
            "16224                                        Iles de Los   \n",
            "16225                                        Iles de Los   \n",
            "16226                                        Iles de Los   \n",
            "16227                                        Iles de Los   \n",
            "16490                          Africa., port unspecified   \n",
            "16491                          Africa., port unspecified   \n",
            "16492                          Africa., port unspecified   \n",
            "\n",
            "                           place_of_landing  percent_women  percent_children  \\\n",
            "213    Spanish Circum-Caribbean,unspecified            NaN               NaN   \n",
            "214    Spanish Circum-Caribbean,unspecified            NaN               NaN   \n",
            "215    Spanish Circum-Caribbean,unspecified            NaN               NaN   \n",
            "283                               New Spain            NaN               NaN   \n",
            "285                               New Spain            NaN               NaN   \n",
            "286                               New Spain            NaN               NaN   \n",
            "769                            Buenos Aires            NaN               NaN   \n",
            "770                            Buenos Aires            NaN               NaN   \n",
            "1665             Barbados, port unspecified            NaN               NaN   \n",
            "1666             Barbados, port unspecified            NaN               NaN   \n",
            "1667             Barbados, port unspecified            NaN               NaN   \n",
            "9842                               Suriname        0.48077           0.05385   \n",
            "9843                               Suriname        0.48077           0.05385   \n",
            "9844                               Suriname        0.48077           0.05385   \n",
            "9845                               Suriname        0.48077           0.05385   \n",
            "10356          Martinique, port unspecified        0.43220           0.18644   \n",
            "10357          Martinique, port unspecified        0.43220           0.18644   \n",
            "10358          Martinique, port unspecified        0.43220           0.18644   \n",
            "10880                           Cayes (Les)        0.26957           0.55652   \n",
            "10881                           Cayes (Les)        0.26957           0.55652   \n",
            "10882                           Cayes (Les)        0.26957           0.55652   \n",
            "14574                              Kingston            NaN           0.38581   \n",
            "14575                              Kingston            NaN           0.38581   \n",
            "14576                              Kingston            NaN           0.38581   \n",
            "14577                              Kingston            NaN           0.38581   \n",
            "14578                              Kingston            NaN           0.38581   \n",
            "14643      West Indies (colony unspecified)            NaN               NaN   \n",
            "14644      West Indies (colony unspecified)            NaN               NaN   \n",
            "14645      West Indies (colony unspecified)            NaN               NaN   \n",
            "16222                                Havana        0.01136           0.05682   \n",
            "16223                                Havana        0.01136           0.05682   \n",
            "16224                                Havana        0.01136           0.05682   \n",
            "16225                                Havana        0.01136           0.05682   \n",
            "16226                                Havana        0.01136           0.05682   \n",
            "16227                                Havana        0.01136           0.05682   \n",
            "16490                              Suriname            NaN               NaN   \n",
            "16491                              Suriname            NaN               NaN   \n",
            "16492                              Suriname            NaN               NaN   \n",
            "\n",
            "       percent_men  total_embarked  total_disembarked    resistance_label  \\\n",
            "213            NaN           347.0              278.0                 NaN   \n",
            "214            NaN           347.0              278.0                 NaN   \n",
            "215            NaN           347.0              278.0                 NaN   \n",
            "283            NaN           498.0              398.0                 NaN   \n",
            "285            NaN           498.0              398.0                 NaN   \n",
            "286            NaN           498.0              398.0                 NaN   \n",
            "769            NaN            49.0               39.0                 NaN   \n",
            "770            NaN            49.0               39.0                 NaN   \n",
            "1665           NaN           150.0              129.0                 NaN   \n",
            "1666           NaN           150.0              129.0                 NaN   \n",
            "1667           NaN           150.0              129.0                 NaN   \n",
            "9842       0.46538           263.0              260.0  Slave insurrection   \n",
            "9843       0.46538           263.0              260.0  Slave insurrection   \n",
            "9844       0.46538           263.0              260.0  Slave insurrection   \n",
            "9845       0.46538           263.0              260.0  Slave insurrection   \n",
            "10356      0.38136           196.0              118.0                 NaN   \n",
            "10357      0.38136           196.0              118.0                 NaN   \n",
            "10358      0.38136           196.0              118.0                 NaN   \n",
            "10880      0.17391           207.0              133.0                 NaN   \n",
            "10881      0.17391           207.0              133.0                 NaN   \n",
            "10882      0.17391           207.0              133.0                 NaN   \n",
            "14574          NaN           531.0              466.0                 NaN   \n",
            "14575          NaN           531.0              466.0                 NaN   \n",
            "14576          NaN           531.0              466.0                 NaN   \n",
            "14577          NaN           531.0              466.0                 NaN   \n",
            "14578          NaN           531.0              466.0                 NaN   \n",
            "14643          NaN           147.0              130.0                 NaN   \n",
            "14644          NaN           147.0              130.0                 NaN   \n",
            "14645          NaN           147.0              130.0                 NaN   \n",
            "16222      0.93182           103.0               92.0                 NaN   \n",
            "16223      0.93182           103.0               92.0                 NaN   \n",
            "16224      0.93182           103.0               92.0                 NaN   \n",
            "16225      0.93182           103.0               92.0                 NaN   \n",
            "16226      0.93182           103.0               92.0                 NaN   \n",
            "16227      0.93182           103.0               92.0                 NaN   \n",
            "16490          NaN           310.0              266.0                 NaN   \n",
            "16491          NaN           310.0              266.0                 NaN   \n",
            "16492          NaN           310.0              266.0                 NaN   \n",
            "\n",
            "               vessel_name                                     captain's_name  \\\n",
            "213              S Antonio                                      Alvarez, Juan   \n",
            "214              S Antonio                                      Alvarez, Juan   \n",
            "215              S Antonio                                      Alvarez, Juan   \n",
            "283                                                           Ruiz, Francisco   \n",
            "285                                                           Ruiz, Francisco   \n",
            "286                                                           Ruiz, Francisco   \n",
            "769            S Francisco                                  Jacome, Francisco   \n",
            "770            S Francisco                                  Jacome, Francisco   \n",
            "1665                  Star                                               Dean   \n",
            "1666                  Star                                               Dean   \n",
            "1667                  Star                                               Dean   \n",
            "9842   Vrouw Johanna Cores  Tuijneman, Jan<br/> Molder, Willem de<br/> Bre...   \n",
            "9843   Vrouw Johanna Cores  Tuijneman, Jan<br/> Molder, Willem de<br/> Bre...   \n",
            "9844   Vrouw Johanna Cores  Tuijneman, Jan<br/> Molder, Willem de<br/> Bre...   \n",
            "9845   Vrouw Johanna Cores  Tuijneman, Jan<br/> Molder, Willem de<br/> Bre...   \n",
            "10356        Reine de Juda                      Cormier de Bellevent, Laurent   \n",
            "10357        Reine de Juda                      Cormier de Bellevent, Laurent   \n",
            "10358        Reine de Juda                      Cormier de Bellevent, Laurent   \n",
            "10880            Algonquin                      Richard de Villemin, Athanase   \n",
            "10881            Algonquin                      Richard de Villemin, Athanase   \n",
            "10882            Algonquin                      Richard de Villemin, Athanase   \n",
            "14574        African Queen                                       Taylor, Cobb   \n",
            "14575        African Queen                                       Taylor, Cobb   \n",
            "14576        African Queen                                       Taylor, Cobb   \n",
            "14577        African Queen                                       Taylor, Cobb   \n",
            "14578        African Queen                                       Taylor, Cobb   \n",
            "14643           Washington                                        Gardner, Wm   \n",
            "14644           Washington                                        Gardner, Wm   \n",
            "14645           Washington                                        Gardner, Wm   \n",
            "16222               Louisa                                     Briggs, Elijah   \n",
            "16223               Louisa                                     Briggs, Elijah   \n",
            "16224               Louisa                                     Briggs, Elijah   \n",
            "16225               Louisa                                     Briggs, Elijah   \n",
            "16226               Louisa                                     Briggs, Elijah   \n",
            "16227               Louisa                                     Briggs, Elijah   \n",
            "16490                Eliza                                               King   \n",
            "16491                Eliza                                               King   \n",
            "16492                Eliza                                               King   \n",
            "\n",
            "       voyage_id                                            sources  \n",
            "213        42638  [u'P\\xe9rez Garc\\xeda and Chaves, p. 620<><p>P...  \n",
            "214        42638  [u'P\\xe9rez Garc\\xeda and Chaves, p. 620<><p>P...  \n",
            "215        42638  [u'P\\xe9rez Garc\\xeda and Chaves, p. 620<><p>P...  \n",
            "283        42674  [u'Chaunus, 3: 380-91<><p>Chaunus, <em>xxxxxx<...  \n",
            "285        42674  [u'Chaunus, 3: 380-91<><p>Chaunus, <em>xxxxxx<...  \n",
            "286        42674  [u'Chaunus, 3: 380-91<><p>Chaunus, <em>xxxxxx<...  \n",
            "769        42929  [u'AGI,Charcas.123,s/n, Certificazion de escla...  \n",
            "770        42929  [u'AGI,Charcas.123,s/n, Certificazion de escla...  \n",
            "1665       26435  [u'Binder:ARA, 1.05.01.01, 47<><p>Binder, Fran...  \n",
            "1666       26435  [u'Binder:ARA, 1.05.01.01, 47<><p>Binder, Fran...  \n",
            "1667       26435  [u'Binder:ARA, 1.05.01.01, 47<><p>Binder, Fran...  \n",
            "9842       11117  [u'Postma,166,304-401<>Postma, Johannes Menne,...  \n",
            "9843       11117  [u'Postma,166,304-401<>Postma, Johannes Menne,...  \n",
            "9844       11117  [u'Postma,166,304-401<>Postma, Johannes Menne,...  \n",
            "9845       11117  [u'Postma,166,304-401<>Postma, Johannes Menne,...  \n",
            "10356      33218  [u'mettas,II<>Mettas, Jean,  <i>R\\xe9pertoire ...  \n",
            "10357      33218  [u'mettas,II<>Mettas, Jean,  <i>R\\xe9pertoire ...  \n",
            "10358      33218  [u'mettas,II<>Mettas, Jean,  <i>R\\xe9pertoire ...  \n",
            "10880      30848  [u'mettas,I<>Mettas, Jean,  <i>R\\xe9pertoire d...  \n",
            "10881      30848  [u'mettas,I<>Mettas, Jean,  <i>R\\xe9pertoire d...  \n",
            "10882      30848  [u'mettas,I<>Mettas, Jean,  <i>R\\xe9pertoire d...  \n",
            "14574      80108  [u'ADM7/106, 33<><p><em>British National Archi...  \n",
            "14575      80108  [u'ADM7/106, 33<><p><em>British National Archi...  \n",
            "14576      80108  [u'ADM7/106, 33<><p><em>British National Archi...  \n",
            "14577      80108  [u'ADM7/106, 33<><p><em>British National Archi...  \n",
            "14578      80108  [u'ADM7/106, 33<><p><em>British National Archi...  \n",
            "14643      36559  [u'Coughtry, 241-85<><p>Coughtry, Jay, <em>The...  \n",
            "14644      36559  [u'Coughtry, 241-85<><p>Coughtry, Jay, <em>The...  \n",
            "14645      36559  [u'Coughtry, 241-85<><p>Coughtry, Jay, <em>The...  \n",
            "16222      36663  [u'Coughtry, 241-85<><p>Coughtry, Jay, <em>The...  \n",
            "16223      36663  [u'Coughtry, 241-85<><p>Coughtry, Jay, <em>The...  \n",
            "16224      36663  [u'Coughtry, 241-85<><p>Coughtry, Jay, <em>The...  \n",
            "16225      36663  [u'Coughtry, 241-85<><p>Coughtry, Jay, <em>The...  \n",
            "16226      36663  [u'Coughtry, 241-85<><p>Coughtry, Jay, <em>The...  \n",
            "16227      36663  [u'Coughtry, 241-85<><p>Coughtry, Jay, <em>The...  \n",
            "16490      97001  [u'LList, 25 Dec 1798<><i>Lloyds\\u2019 Lists (...  \n",
            "16491      97001  [u'LList, 25 Dec 1798<><i>Lloyds\\u2019 Lists (...  \n",
            "16492      97001  [u'LList, 25 Dec 1798<><i>Lloyds\\u2019 Lists (...  \n",
            "\n",
            "Number of duplicated rows: 38\n",
            "\n",
            "Number of rows after removing duplicates: 20741\n",
            "\n",
            "Reason for removing duplicates:\n",
            "Removing duplicates ensures that repeated data does not skew analysis results, leading to more accurate and reliable insights.\n"
          ]
        }
      ]
    },
    {
      "cell_type": "markdown",
      "id": "301e9714-6ce7-44cf-8bef-d497b30f511d",
      "metadata": {
        "id": "301e9714-6ce7-44cf-8bef-d497b30f511d"
      },
      "source": [
        "**Double click to edit cell**     \n",
        "`Please type your answer here`\n",
        "</br>\n",
        "</br>\n",
        "</br>\n",
        "\n",
        "\n",
        "---\n"
      ]
    },
    {
      "cell_type": "markdown",
      "id": "7ff8bfcd-4573-43a4-b58c-fb6d48516720",
      "metadata": {
        "id": "7ff8bfcd-4573-43a4-b58c-fb6d48516720"
      },
      "source": [
        "### 7. Please identify the **top 5 most common ports of arrival**.\n",
        "\n",
        "**Hint:** Check the columns ```place_of_landing```."
      ]
    },
    {
      "cell_type": "code",
      "execution_count": 15,
      "id": "56a1e1aa-7fb3-497c-8055-bd1a5deca2f7",
      "metadata": {
        "id": "56a1e1aa-7fb3-497c-8055-bd1a5deca2f7",
        "colab": {
          "base_uri": "https://localhost:8080/"
        },
        "outputId": "18c3e0b3-1b2e-4286-8112-19b5219c4c6d"
      },
      "outputs": [
        {
          "output_type": "stream",
          "name": "stdout",
          "text": [
            "\n",
            "Top 5 Most Common Ports of Arrival:\n",
            "place_of_landing\n",
            "Barbados, port unspecified    2038\n",
            "Jamaica, port unspecified     1715\n",
            "Kingston                      1622\n",
            "Havana                        1321\n",
            "Cap Francais                  1127\n",
            "Name: count, dtype: int64\n"
          ]
        }
      ],
      "source": [
        "top_ports_of_arrival = data_csv_no_duplicates['place_of_landing'].value_counts().head(5)\n",
        "print(\"\\nTop 5 Most Common Ports of Arrival:\")\n",
        "print(top_ports_of_arrival)"
      ]
    },
    {
      "cell_type": "markdown",
      "id": "9bbe0198-c9b1-4527-9b3d-a09724730c4b",
      "metadata": {
        "id": "9bbe0198-c9b1-4527-9b3d-a09724730c4b"
      },
      "source": [
        "**Double click to edit cell**     \n",
        "`Please type your answer here`\n",
        "</br>\n",
        "</br>\n",
        "</br>\n",
        "\n",
        "---\n"
      ]
    },
    {
      "cell_type": "markdown",
      "id": "c19dd975-9347-41f5-86e8-992b7bd26591",
      "metadata": {
        "id": "c19dd975-9347-41f5-86e8-992b7bd26591"
      },
      "source": [
        "### 8. Please plot the **top 5 enslavers/captors** from this dataset. Please choose the appropriate visualization (e.g. pie chart, bar chart) to display your finding."
      ]
    },
    {
      "cell_type": "code",
      "execution_count": 17,
      "id": "ab225554-bc39-4841-ac90-26ddca5cae0f",
      "metadata": {
        "id": "ab225554-bc39-4841-ac90-26ddca5cae0f",
        "colab": {
          "base_uri": "https://localhost:8080/"
        },
        "outputId": "697d333b-2f8c-4a34-fe7d-f5e505d6ea8f"
      },
      "outputs": [
        {
          "output_type": "stream",
          "name": "stdout",
          "text": [
            "\n",
            "Top 5 Enslavers/Captors:\n",
            "captain's_name\n",
            "Smith, John          36\n",
            "Williams, William    22\n",
            "Simmons, John        20\n",
            "Kendall, John        19\n",
            "Brown, William       19\n",
            "Name: count, dtype: int64\n"
          ]
        }
      ],
      "source": [
        "top_captors = data_csv_no_duplicates['captain\\'s_name'].value_counts().head(5)\n",
        "print(\"\\nTop 5 Enslavers/Captors:\")\n",
        "print(top_captors)"
      ]
    },
    {
      "cell_type": "markdown",
      "id": "30b9934a-80f7-495e-bcb8-3210c57ce3a7",
      "metadata": {
        "id": "30b9934a-80f7-495e-bcb8-3210c57ce3a7"
      },
      "source": [
        "-----"
      ]
    },
    {
      "cell_type": "markdown",
      "id": "7e04fc1a-4956-4f0e-a90b-c5b2e1f66199",
      "metadata": {
        "id": "7e04fc1a-4956-4f0e-a90b-c5b2e1f66199"
      },
      "source": [
        "### 9. Having briefly explored the dataset, what further questions have emerged as you explored this dataset?    \n",
        "\n",
        "Please share your thoughts in a few sentences."
      ]
    },
    {
      "cell_type": "markdown",
      "id": "28712b05-f6a8-4a12-897c-949f96aaa466",
      "metadata": {
        "id": "28712b05-f6a8-4a12-897c-949f96aaa466"
      },
      "source": [
        "**Double click to edit cell**     \n",
        "`Please type your answer here`\n",
        "</br>\n",
        "</br>\n",
        "</br>\n",
        "\n"
      ]
    },
    {
      "cell_type": "markdown",
      "id": "2721385e-5112-4bd0-a3da-deb1f793405a",
      "metadata": {
        "id": "2721385e-5112-4bd0-a3da-deb1f793405a"
      },
      "source": [
        "-----\n",
        "-----\n"
      ]
    },
    {
      "cell_type": "markdown",
      "id": "95ee26ad-cefa-4f9e-9e9f-6a635fb8900a",
      "metadata": {
        "id": "95ee26ad-cefa-4f9e-9e9f-6a635fb8900a"
      },
      "source": [
        "## Side quest challenge\n",
        "\n",
        "The side quest challenge is for extra credit. You can still get full credit for this activity even if you do not complete this challenge."
      ]
    },
    {
      "cell_type": "markdown",
      "id": "7699e2e7-deb7-411a-907b-e0b6760d3e14",
      "metadata": {
        "id": "7699e2e7-deb7-411a-907b-e0b6760d3e14"
      },
      "source": [
        "### 1. Which enslaver/captor had the highest difference between the total number of people who embarked and disembarked?\n",
        "\n",
        "**Hint:** You may need to [add a column](https://github.com/GCDigitalFellows/intro-pandas-dri-2022/blob/main/README.md#8-rename-select-drop-and-add-new-columns) to calculate the difference, use the [```.groupby```, ```.count()``` and ```.sort_values``` methods](https://github.com/GCDigitalFellows/intro-pandas-dri-2022/blob/main/README.md#9-sort-columns-groupby-columns--count-values) for this challenge."
      ]
    },
    {
      "source": [
        "print(data_csv_no_duplicates.columns)\n",
        "data_csv_no_duplicates['embarked_disembarked_diff'] = abs(data_csv_no_duplicates['total_embarked'] - data_csv_no_duplicates['total_disembarked'])\n",
        "top_diff_captors = data_csv_no_duplicates.groupby(\"captain's_name\")[\"embarked_disembarked_diff\"].sum().sort_values(ascending=False).head(1)\n",
        "print(\"\\nEnslaver/Captor with the Highest Difference Between Embarked and Disembarked:\")\n",
        "print(top_diff_captors)"
      ],
      "cell_type": "code",
      "metadata": {
        "colab": {
          "base_uri": "https://localhost:8080/"
        },
        "id": "QI_aObF3m6mt",
        "outputId": "236cf0f8-7aa8-4aba-f232-0a8fdb8cc204"
      },
      "id": "QI_aObF3m6mt",
      "execution_count": 24,
      "outputs": [
        {
          "output_type": "stream",
          "name": "stdout",
          "text": [
            "Index(['year_of_arrival', 'flag', 'place_of_purchase', 'place_of_landing',\n",
            "       'percent_women', 'percent_children', 'percent_men', 'total_embarked',\n",
            "       'total_disembarked', 'resistance_label', 'vessel_name',\n",
            "       'captain's_name', 'voyage_id', 'sources', 'embarked_disembarked_diff'],\n",
            "      dtype='object')\n",
            "\n",
            "Enslaver/Captor with the Highest Difference Between Embarked and Disembarked:\n",
            "captain's_name\n",
            "Smith, John    1143.0\n",
            "Name: embarked_disembarked_diff, dtype: float64\n"
          ]
        },
        {
          "output_type": "stream",
          "name": "stderr",
          "text": [
            "<ipython-input-24-f6f59622308f>:2: SettingWithCopyWarning: \n",
            "A value is trying to be set on a copy of a slice from a DataFrame.\n",
            "Try using .loc[row_indexer,col_indexer] = value instead\n",
            "\n",
            "See the caveats in the documentation: https://pandas.pydata.org/pandas-docs/stable/user_guide/indexing.html#returning-a-view-versus-a-copy\n",
            "  data_csv_no_duplicates['embarked_disembarked_diff'] = abs(data_csv_no_duplicates['total_embarked'] - data_csv_no_duplicates['total_disembarked'])\n"
          ]
        }
      ]
    },
    {
      "cell_type": "markdown",
      "id": "8a7e104a",
      "metadata": {
        "id": "8a7e104a"
      },
      "source": [
        "**Double click to edit cell**     \n",
        "`Please type your answer here`\n",
        "</br>\n",
        "</br>\n",
        "</br>\n",
        "\n",
        "---\n"
      ]
    }
  ],
  "metadata": {
    "kernelspec": {
      "display_name": "Python 3 (ipykernel)",
      "language": "python",
      "name": "python3"
    },
    "language_info": {
      "codemirror_mode": {
        "name": "ipython",
        "version": 3
      },
      "file_extension": ".py",
      "mimetype": "text/x-python",
      "name": "python",
      "nbconvert_exporter": "python",
      "pygments_lexer": "ipython3",
      "version": "3.11.5"
    },
    "colab": {
      "provenance": [],
      "include_colab_link": true
    }
  },
  "nbformat": 4,
  "nbformat_minor": 5
}