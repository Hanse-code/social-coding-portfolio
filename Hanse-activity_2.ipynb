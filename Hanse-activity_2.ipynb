{
  "cells": [
    {
      "cell_type": "markdown",
      "metadata": {
        "id": "view-in-github",
        "colab_type": "text"
      },
      "source": [
        "<a href=\"https://colab.research.google.com/github/Hanse-code/social-coding-portfolio/blob/main/Copy_of_activity_2.ipynb\" target=\"_parent\"><img src=\"https://colab.research.google.com/assets/colab-badge.svg\" alt=\"Open In Colab\"/></a>"
      ]
    },
    {
      "cell_type": "markdown",
      "id": "26550237-15cd-45e2-81e1-556bad05a917",
      "metadata": {
        "id": "26550237-15cd-45e2-81e1-556bad05a917"
      },
      "source": [
        "# Activity 2: Python Primer on Lists, For Loops, and Functions"
      ]
    },
    {
      "cell_type": "markdown",
      "id": "4765796a-69ae-4a80-9529-2843912df581",
      "metadata": {
        "id": "4765796a-69ae-4a80-9529-2843912df581"
      },
      "source": [
        "For this activity, we will be familiarizing ourselves with lists, for loops, and creating our own simple functions.\n",
        "\n",
        "Please make sure you open this file in Jupyter Notebook or Google Colab. You will have to either open Jupyter Notebook first or upload the file to Google Colab before being able to edit the file.\n",
        "\n",
        "Please make sure you **print your output.** You may need to use ```print``` for your output to be displayed.\n",
        "\n",
        "-----\n",
        "## Submission Instructions\n",
        "1. Upload the completed activity to the \"Activities\" folder of your GitHub Portfolio;\n",
        "2. Ensure your submission consists of two files: <br/>(a) one single-page reflection in markdown (e.g. `a2_reflection.md`);  <br/>(b) one Jupyter notebook with completed responses to each activity step (e.g. `a2_primer.ipynb`)."
      ]
    },
    {
      "cell_type": "markdown",
      "id": "8749ea10-27e1-4210-b638-abe62a45f609",
      "metadata": {
        "id": "8749ea10-27e1-4210-b638-abe62a45f609"
      },
      "source": [
        "1. Run the code in the cell below and explain why the error occured. Then, fix the error so that the code will run successfully."
      ]
    },
    {
      "cell_type": "code",
      "execution_count": 1,
      "id": "51a02251-4a93-4eb2-9882-69d49c5a3227",
      "metadata": {
        "scrolled": true,
        "id": "51a02251-4a93-4eb2-9882-69d49c5a3227",
        "outputId": "910b1c73-8196-4799-9f54-5eb0e2e7ece6",
        "colab": {
          "base_uri": "https://localhost:8080/"
        }
      },
      "outputs": [
        {
          "output_type": "stream",
          "name": "stdout",
          "text": [
            "['Mary Gallagher, John Sanin(?), Anthony Clark, Margaret Farrell']\n"
          ]
        }
      ],
      "source": [
        "names = [\"Mary Gallagher, John Sanin(?), Anthony Clark, Margaret Farrell\"]\n",
        "\n",
        "print(names)"
      ]
    },
    {
      "cell_type": "markdown",
      "id": "a40ee643-dbe8-4059-8953-95c11f938235",
      "metadata": {
        "jp-MarkdownHeadingCollapsed": true,
        "id": "a40ee643-dbe8-4059-8953-95c11f938235"
      },
      "source": [
        "there wasn't a qutation mark inside the parathensis \"\""
      ]
    },
    {
      "cell_type": "markdown",
      "id": "1dc86a86-51b2-4bcf-8ad4-18901364e363",
      "metadata": {
        "id": "1dc86a86-51b2-4bcf-8ad4-18901364e363"
      },
      "source": [
        "-----"
      ]
    },
    {
      "cell_type": "markdown",
      "id": "4769c8e1-a906-4f5d-9b34-0ab30e613d81",
      "metadata": {
        "id": "4769c8e1-a906-4f5d-9b34-0ab30e613d81"
      },
      "source": [
        "## Lists and for loops\n",
        "\n",
        "Use the lists below to solve the following exercise questions. Make sure you run this cell before you begin with the activity or you will run into errors."
      ]
    },
    {
      "cell_type": "code",
      "execution_count": 2,
      "id": "187b66da-d140-4aac-aa79-26ed86feec5e",
      "metadata": {
        "id": "187b66da-d140-4aac-aa79-26ed86feec5e"
      },
      "outputs": [],
      "source": [
        "professions = ['married', 'laborer', 'widow', 'widow', 'laborer' ]\n",
        "gender = ['woman', 'man', 'woman', 'woman', 'man']\n",
        "longlist_professions = ['married', 'married', 'laborer', 'laborer', 'widow', 'married', 'spinster',\n",
        "                     'laborer', 'spinster', 'laborer', 'spinster', 'spinster', 'married', 'laborer',\n",
        "                     'laborer', 'spinster', 'laborer', 'laborer', 'laborer', 'laborer', 'laborer', 'spinster',\n",
        "                     'laborer', 'spinster', 'widow', 'spinster', 'painter', 'laborer', 'weaver', 'laborer']"
      ]
    },
    {
      "cell_type": "markdown",
      "id": "1dd42939-8b33-40be-9633-877c4142dcdb",
      "metadata": {
        "id": "1dd42939-8b33-40be-9633-877c4142dcdb"
      },
      "source": [
        "2. Extract the second item in the list ```professions```.\n",
        "    \n",
        "   **Hint**: Python begins indexing from '0.' The first item, 'married,' is position [0]."
      ]
    },
    {
      "cell_type": "code",
      "execution_count": 4,
      "id": "a3afd56e-4d46-4d01-be8b-a65380a1f681",
      "metadata": {
        "id": "a3afd56e-4d46-4d01-be8b-a65380a1f681",
        "colab": {
          "base_uri": "https://localhost:8080/",
          "height": 35
        },
        "outputId": "34bbeb10-ebd1-499e-ff2c-5f2c42a8e83e"
      },
      "outputs": [
        {
          "output_type": "execute_result",
          "data": {
            "text/plain": [
              "'laborer'"
            ],
            "application/vnd.google.colaboratory.intrinsic+json": {
              "type": "string"
            }
          },
          "metadata": {},
          "execution_count": 4
        }
      ],
      "source": [
        "professions[1]"
      ]
    },
    {
      "cell_type": "markdown",
      "id": "141f7b97-6853-4382-9bca-12be87c446b3",
      "metadata": {
        "id": "141f7b97-6853-4382-9bca-12be87c446b3"
      },
      "source": [
        "3. Make a **for loop** that considers each item in the ```professions``` list and prints “Person’s profession is ___.”   "
      ]
    },
    {
      "cell_type": "code",
      "execution_count": 5,
      "id": "dd3bfc48-6d07-481f-9100-001adf4848a7",
      "metadata": {
        "id": "dd3bfc48-6d07-481f-9100-001adf4848a7",
        "colab": {
          "base_uri": "https://localhost:8080/"
        },
        "outputId": "c5ba7f93-41c7-44ab-f202-09f665994ba5"
      },
      "outputs": [
        {
          "output_type": "stream",
          "name": "stdout",
          "text": [
            "Person's profession is married.\n",
            "Person's profession is laborer.\n",
            "Person's profession is widow.\n",
            "Person's profession is widow.\n",
            "Person's profession is laborer.\n"
          ]
        }
      ],
      "source": [
        "for professions in professions:\n",
        "    print(f\"Person's profession is {professions}.\")"
      ]
    },
    {
      "cell_type": "markdown",
      "id": "37658740-c9ca-465f-a3d0-a33da65ecb91",
      "metadata": {
        "id": "37658740-c9ca-465f-a3d0-a33da65ecb91"
      },
      "source": [
        "4. Using a **list method**, add an item to the list ```gender``` called “not known”"
      ]
    },
    {
      "cell_type": "code",
      "execution_count": 6,
      "id": "a3b3b700-8339-49c2-9ca1-f35858f86e7e",
      "metadata": {
        "id": "a3b3b700-8339-49c2-9ca1-f35858f86e7e",
        "colab": {
          "base_uri": "https://localhost:8080/"
        },
        "outputId": "ba32d9d1-8f87-4aa3-cafc-9215722373a4"
      },
      "outputs": [
        {
          "output_type": "execute_result",
          "data": {
            "text/plain": [
              "['woman', 'man', 'woman', 'woman', 'man', 'not known']"
            ]
          },
          "metadata": {},
          "execution_count": 6
        }
      ],
      "source": [
        "gender.append(\"not known\")\n",
        "gender"
      ]
    },
    {
      "cell_type": "markdown",
      "id": "8b2269c7-c46c-44bb-8333-1d8ba9022a61",
      "metadata": {
        "id": "8b2269c7-c46c-44bb-8333-1d8ba9022a61"
      },
      "source": [
        "5. Make a **for loop** that considers each item in the ```gender``` list and prints “Person identifies as a man” if the person is registered as a man, “Person identifies as a woman” if the person registered as a woman, and “Person’s gender is not known” if person's gender is unknown."
      ]
    },
    {
      "cell_type": "code",
      "execution_count": 7,
      "id": "a224a0e4-0e56-40f9-aa41-094882deb499",
      "metadata": {
        "id": "a224a0e4-0e56-40f9-aa41-094882deb499",
        "colab": {
          "base_uri": "https://localhost:8080/"
        },
        "outputId": "f95e4070-f01a-47db-8843-0ccaef5221e5"
      },
      "outputs": [
        {
          "output_type": "stream",
          "name": "stdout",
          "text": [
            "Person identifies as a woman\n",
            "Person identifies as a man\n",
            "Person identifies as a woman\n",
            "Person identifies as a woman\n",
            "Person identifies as a man\n"
          ]
        }
      ],
      "source": [
        "gender = ['woman', 'man', 'woman', 'woman', 'man']\n",
        "for gender in gender:\n",
        "    if gender == \"man\":\n",
        "        print(\"Person identifies as a man\")\n",
        "    elif gender == \"woman\":\n",
        "        print(\"Person identifies as a woman\")\n",
        "    else:\n",
        "        print(\"Person's gender is not known\")"
      ]
    },
    {
      "cell_type": "markdown",
      "id": "43584358-9a8f-45a5-8383-5bf823d8c9be",
      "metadata": {
        "id": "43584358-9a8f-45a5-8383-5bf823d8c9be"
      },
      "source": [
        "6. Build a **new list** called ```spinster_list``` that includes only the items in the list ```longlist_professions``` that matches ```spinster```.\n",
        "\n",
        "   **Hint**: You will need to create an empty list variable before sorting the list with a for loop."
      ]
    },
    {
      "cell_type": "code",
      "execution_count": 8,
      "id": "6fffb099-3bb0-47d9-a75b-d5255d89ab7a",
      "metadata": {
        "id": "6fffb099-3bb0-47d9-a75b-d5255d89ab7a",
        "colab": {
          "base_uri": "https://localhost:8080/"
        },
        "outputId": "894b2e07-012b-441a-ae00-4a09e9a5f47a"
      },
      "outputs": [
        {
          "output_type": "execute_result",
          "data": {
            "text/plain": [
              "['spinster',\n",
              " 'spinster',\n",
              " 'spinster',\n",
              " 'spinster',\n",
              " 'spinster',\n",
              " 'spinster',\n",
              " 'spinster',\n",
              " 'spinster']"
            ]
          },
          "metadata": {},
          "execution_count": 8
        }
      ],
      "source": [
        "spinster_list = []\n",
        "for profession in longlist_professions:\n",
        "    if profession == \"spinster\":\n",
        "        spinster_list.append(profession)\n",
        "spinster_list"
      ]
    },
    {
      "cell_type": "markdown",
      "id": "7ff8bfcd-4573-43a4-b58c-fb6d48516720",
      "metadata": {
        "id": "7ff8bfcd-4573-43a4-b58c-fb6d48516720"
      },
      "source": [
        "7. Find the most and least common professions in the list ```longlist_professions```.   \n",
        "   Run the cell below to import the ```Counter``` module and use the appropriate method.\n",
        "\n",
        "   **Hint**: You will need to create a variable for the results of the Counter function before running the method.   \n",
        "   **Hint 2**: Check your spelling. Python is case-sensitive, and the function for Counter begins with a capital C."
      ]
    },
    {
      "cell_type": "code",
      "execution_count": 9,
      "id": "56a1e1aa-7fb3-497c-8055-bd1a5deca2f7",
      "metadata": {
        "id": "56a1e1aa-7fb3-497c-8055-bd1a5deca2f7"
      },
      "outputs": [],
      "source": [
        "from collections import Counter"
      ]
    },
    {
      "cell_type": "code",
      "execution_count": 10,
      "id": "24cb60c3-0014-4cca-b4cc-17ce4916a8fc",
      "metadata": {
        "id": "24cb60c3-0014-4cca-b4cc-17ce4916a8fc",
        "colab": {
          "base_uri": "https://localhost:8080/"
        },
        "outputId": "ee3f8019-77a4-4376-c1d2-c5aca0e56888"
      },
      "outputs": [
        {
          "output_type": "execute_result",
          "data": {
            "text/plain": [
              "[('laborer', 14),\n",
              " ('spinster', 8),\n",
              " ('married', 4),\n",
              " ('widow', 2),\n",
              " ('painter', 1),\n",
              " ('weaver', 1)]"
            ]
          },
          "metadata": {},
          "execution_count": 10
        }
      ],
      "source": [
        "longlist_professions_count = Counter(longlist_professions)\n",
        "longlist_professions_count.most_common()"
      ]
    },
    {
      "cell_type": "markdown",
      "id": "28996519-910f-40d7-a909-8643839645d7",
      "metadata": {
        "id": "28996519-910f-40d7-a909-8643839645d7"
      },
      "source": [
        "8. Run the code below and explain why the error occurred. Then, fix the error so that the code can run as intended.\n",
        "   \n",
        "    **Hint**: There are 2 errors in the code below"
      ]
    },
    {
      "cell_type": "code",
      "execution_count": 19,
      "id": "bc1afbb3-0540-4481-abfb-55224e5d941d",
      "metadata": {
        "id": "bc1afbb3-0540-4481-abfb-55224e5d941d",
        "outputId": "21980d3a-dcfa-4a0e-f64a-352c6866b0d9",
        "colab": {
          "base_uri": "https://localhost:8080/"
        }
      },
      "outputs": [
        {
          "output_type": "stream",
          "name": "stdout",
          "text": [
            "Wow, women were limited to their marital status, such as l.\n",
            "Wow, women were limited to their marital status, such as a.\n",
            "Wow, women were limited to their marital status, such as b.\n",
            "Wow, women were limited to their marital status, such as o.\n",
            "Wow, women were limited to their marital status, such as r.\n",
            "Wow, women were limited to their marital status, such as e.\n",
            "Wow, women were limited to their marital status, such as r.\n"
          ]
        }
      ],
      "source": [
        "for job in professions:\n",
        "    if job == \"laborer\":\n",
        "        print(job)\n",
        "    else:\n",
        "        print(f\"Wow, women were limited to their marital status, such as {job}.\")"
      ]
    },
    {
      "cell_type": "markdown",
      "id": "bce21100-5448-454f-990b-ea7aaba6c699",
      "metadata": {
        "id": "bce21100-5448-454f-990b-ea7aaba6c699"
      },
      "source": [
        "the else wasn't indented right and if job == \"laborer\" the laborer part didn't have a : at the end of it\n",
        "---\n",
        "\n",
        "\n",
        "\n",
        "\n"
      ]
    },
    {
      "cell_type": "markdown",
      "id": "30b9934a-80f7-495e-bcb8-3210c57ce3a7",
      "metadata": {
        "id": "30b9934a-80f7-495e-bcb8-3210c57ce3a7"
      },
      "source": [
        "-----"
      ]
    },
    {
      "cell_type": "markdown",
      "id": "b24b58ce-3f90-4b1a-96b1-00b1b14385d7",
      "metadata": {
        "id": "b24b58ce-3f90-4b1a-96b1-00b1b14385d7"
      },
      "source": [
        "## Defining functions"
      ]
    },
    {
      "cell_type": "markdown",
      "id": "7e04fc1a-4956-4f0e-a90b-c5b2e1f66199",
      "metadata": {
        "id": "7e04fc1a-4956-4f0e-a90b-c5b2e1f66199"
      },
      "source": [
        "9. Make a function called ```hello``` that greets the user with \"Hello {person}! Have a good day ahead.\" Test your function to make sure it runs as intended.   \n",
        "\n",
        "    **Hint**: You will need one parameter in the function."
      ]
    },
    {
      "cell_type": "code",
      "execution_count": 39,
      "id": "ec379944",
      "metadata": {
        "id": "ec379944",
        "colab": {
          "base_uri": "https://localhost:8080/"
        },
        "outputId": "bc2d9f90-6658-427e-af78-d5315ddc6b63"
      },
      "outputs": [
        {
          "output_type": "stream",
          "name": "stdout",
          "text": [
            "Hello Hanse! Have a good day ahead.\n"
          ]
        }
      ],
      "source": [
        "def hello(person):\n",
        "    hello= f\"Hello {person}! Have a good day ahead.\"\n",
        "    return hello\n",
        "\n",
        "print(hello(\"Hanse\"))"
      ]
    },
    {
      "cell_type": "code",
      "execution_count": 38,
      "id": "ed90ad4c-f262-431f-992a-7feceb1df3d5",
      "metadata": {
        "id": "ed90ad4c-f262-431f-992a-7feceb1df3d5"
      },
      "outputs": [],
      "source": []
    },
    {
      "cell_type": "markdown",
      "id": "68a966cb-b4d8-4d96-8056-549271f1f688",
      "metadata": {
        "id": "68a966cb-b4d8-4d96-8056-549271f1f688"
      },
      "source": [
        "10. Make a function called ```sum_of_3``` that allows the user to add 3 numbers. Test your function to make sure it runs as intended.   \n",
        "    *Level-up challenge*: Use a default argument to prevent code failing if the user has less than 3 input."
      ]
    },
    {
      "cell_type": "code",
      "execution_count": 45,
      "id": "1ea1a2e4-7148-4d82-9e0a-7691f3bfae85",
      "metadata": {
        "id": "1ea1a2e4-7148-4d82-9e0a-7691f3bfae85",
        "colab": {
          "base_uri": "https://localhost:8080/"
        },
        "outputId": "80b84d76-dd0e-491e-ab7a-426288434e65"
      },
      "outputs": [
        {
          "output_type": "stream",
          "name": "stdout",
          "text": [
            "90\n"
          ]
        }
      ],
      "source": [
        "def sum_of_3(num1=0, num2=0, num3=0):\n",
        "    sum = num1 + num2 + num3\n",
        "    return sum\n",
        "\n",
        "print(sum_of_3(20, 16, 54))"
      ]
    },
    {
      "cell_type": "code",
      "execution_count": null,
      "id": "804036ca-f079-4124-adad-56d28fb2168a",
      "metadata": {
        "id": "804036ca-f079-4124-adad-56d28fb2168a"
      },
      "outputs": [],
      "source": []
    },
    {
      "cell_type": "markdown",
      "id": "9910590b-f2b0-4c97-b40f-906788a4e479",
      "metadata": {
        "id": "9910590b-f2b0-4c97-b40f-906788a4e479"
      },
      "source": [
        "11. Make a function called ```fahrenheit_to_celsius``` that converts the temperature in fahrenheit to celsius. Call your function to test that it runs as intended.\n",
        "\n",
        "    **Hint**: The formula for converting the temperature is (Temperature in Fahrenheit - 32) * 5/9."
      ]
    },
    {
      "cell_type": "code",
      "execution_count": 49,
      "id": "f6a5ff9e-96e2-4a3b-b80d-8d8b5c4b5382",
      "metadata": {
        "id": "f6a5ff9e-96e2-4a3b-b80d-8d8b5c4b5382",
        "colab": {
          "base_uri": "https://localhost:8080/"
        },
        "outputId": "a5c92571-ed9e-41c4-8437-c56375fad1a6"
      },
      "outputs": [
        {
          "output_type": "stream",
          "name": "stdout",
          "text": [
            "37.77777777777778\n"
          ]
        }
      ],
      "source": [
        "def fanrenheit_to_celsius(fahrenheit):\n",
        "    celsius = (fahrenheit - 32) * 5/9\n",
        "    return celsius\n",
        "\n",
        "print(fanrenheit_to_celsius(100))"
      ]
    },
    {
      "cell_type": "code",
      "execution_count": null,
      "id": "d0829074-f2fe-452f-b6ec-7ef7cb91068f",
      "metadata": {
        "id": "d0829074-f2fe-452f-b6ec-7ef7cb91068f"
      },
      "outputs": [],
      "source": []
    },
    {
      "cell_type": "markdown",
      "id": "2721385e-5112-4bd0-a3da-deb1f793405a",
      "metadata": {
        "id": "2721385e-5112-4bd0-a3da-deb1f793405a"
      },
      "source": [
        "-----"
      ]
    },
    {
      "cell_type": "markdown",
      "id": "95ee26ad-cefa-4f9e-9e9f-6a635fb8900a",
      "metadata": {
        "id": "95ee26ad-cefa-4f9e-9e9f-6a635fb8900a"
      },
      "source": [
        "## Side quest challenge\n",
        "\n",
        "The side quest challenge is for extra credit. You can still get full credit for this activity even if you do not complete this challenge."
      ]
    },
    {
      "cell_type": "markdown",
      "id": "7699e2e7-deb7-411a-907b-e0b6760d3e14",
      "metadata": {
        "id": "7699e2e7-deb7-411a-907b-e0b6760d3e14"
      },
      "source": [
        "1. Use **list comprehension** to build a new list for the most common profession in ```longlist_professions```."
      ]
    },
    {
      "cell_type": "code",
      "execution_count": 50,
      "id": "f2f16094-80b6-4767-ba8e-a6b0784a63b6",
      "metadata": {
        "id": "f2f16094-80b6-4767-ba8e-a6b0784a63b6",
        "colab": {
          "base_uri": "https://localhost:8080/"
        },
        "outputId": "466da496-b285-4526-e0fc-86e32db3c815"
      },
      "outputs": [
        {
          "output_type": "execute_result",
          "data": {
            "text/plain": [
              "['laborer',\n",
              " 'laborer',\n",
              " 'laborer',\n",
              " 'laborer',\n",
              " 'laborer',\n",
              " 'laborer',\n",
              " 'laborer',\n",
              " 'laborer',\n",
              " 'laborer',\n",
              " 'laborer',\n",
              " 'laborer',\n",
              " 'laborer',\n",
              " 'laborer',\n",
              " 'laborer']"
            ]
          },
          "metadata": {},
          "execution_count": 50
        }
      ],
      "source": [
        "most_common = [profession for profession in longlist_professions if profession == \"laborer\"]\n",
        "most_common"
      ]
    },
    {
      "cell_type": "markdown",
      "id": "8a7e104a",
      "metadata": {
        "id": "8a7e104a"
      },
      "source": [
        "2. Make a function called ```budget_expenses``` that calculates the estimated budget for a trip to NYC. You will need the following parameters:\n",
        "- ```plane_ticket_price```\n",
        "- ```hotel_rate_per_day```\n",
        "- ```duration_of_trip```\n",
        "- ```subway_per_trip = 2.90```\n",
        "\n",
        "   After making your function, call the function with the following values: ```plane_ticket_price```: 450, ```hotel_rate_per_day```: 120, ```duration_of_trip```: 5.\n",
        "\n",
        "  **Hint**: Remember to calculate the total price of your hotel stay and round-trip subway cost for the entire duration of the trip"
      ]
    },
    {
      "cell_type": "code",
      "execution_count": 59,
      "id": "47caa9f4",
      "metadata": {
        "id": "47caa9f4",
        "colab": {
          "base_uri": "https://localhost:8080/"
        },
        "outputId": "a48e0ac9-3ecd-4bd5-a7a8-8a4cd8e6c34e"
      },
      "outputs": [
        {
          "output_type": "stream",
          "name": "stdout",
          "text": [
            "Estimated budget for the trip to NYC: 1079.0\n"
          ]
        }
      ],
      "source": [
        "def budget_expenses(plane_ticket_price, hotel_rate_per_day, duration_of_trip, subway_per_trip = 2.90):\n",
        "    hotel_total = hotel_rate_per_day * duration_of_trip\n",
        "    subway_total = subway_per_trip * duration_of_trip * 2\n",
        "    total = plane_ticket_price + hotel_total + subway_total\n",
        "    return total\n",
        "\n",
        "estimated_budget = budget_expenses(450, 120, 5)\n",
        "print(\"Estimated budget for the trip to NYC:\", estimated_budget)"
      ]
    },
    {
      "cell_type": "code",
      "execution_count": 59,
      "id": "d40de7a7",
      "metadata": {
        "id": "d40de7a7"
      },
      "outputs": [],
      "source": [
        "\n"
      ]
    },
    {
      "cell_type": "markdown",
      "id": "103923a6-7ed7-479a-bf4f-c4647ea66d8c",
      "metadata": {
        "id": "103923a6-7ed7-479a-bf4f-c4647ea66d8c"
      },
      "source": [
        "-----"
      ]
    },
    {
      "cell_type": "markdown",
      "id": "be569abf-123b-4ef6-be2d-28914def95a1",
      "metadata": {
        "id": "be569abf-123b-4ef6-be2d-28914def95a1"
      },
      "source": [
        "Some of the exercise questions are adapted from Melanie Walsh's *Introduction to Cultural Analytics & Python*."
      ]
    }
  ],
  "metadata": {
    "kernelspec": {
      "display_name": "Python 3 (ipykernel)",
      "language": "python",
      "name": "python3"
    },
    "language_info": {
      "codemirror_mode": {
        "name": "ipython",
        "version": 3
      },
      "file_extension": ".py",
      "mimetype": "text/x-python",
      "name": "python",
      "nbconvert_exporter": "python",
      "pygments_lexer": "ipython3",
      "version": "3.11.5"
    },
    "colab": {
      "provenance": [],
      "include_colab_link": true
    }
  },
  "nbformat": 4,
  "nbformat_minor": 5
}
